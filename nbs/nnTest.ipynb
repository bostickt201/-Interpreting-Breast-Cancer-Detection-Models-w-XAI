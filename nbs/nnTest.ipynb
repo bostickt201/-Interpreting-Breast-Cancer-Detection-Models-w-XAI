{
 "cells": [
  {
   "cell_type": "code",
   "execution_count": 1,
   "id": "5ac7e195",
   "metadata": {},
   "outputs": [
    {
     "name": "stderr",
     "output_type": "stream",
     "text": [
      "2022-11-08 16:20:43.943801: I tensorflow/core/platform/cpu_feature_guard.cc:193] This TensorFlow binary is optimized with oneAPI Deep Neural Network Library (oneDNN) to use the following CPU instructions in performance-critical operations:  AVX2 FMA\n",
      "To enable them in other operations, rebuild TensorFlow with the appropriate compiler flags.\n"
     ]
    }
   ],
   "source": [
    "# imports\n",
    "import pandas as pd\n",
    "from keras import models\n",
    "from tensorflow.keras.models import Sequential\n",
    "from tensorflow.keras.layers import Dense\n",
    "from scikeras.wrappers import KerasClassifier\n",
    "from sklearn.model_selection import cross_val_score\n",
    "from sklearn.preprocessing import LabelEncoder\n",
    "from sklearn.model_selection import StratifiedKFold\n",
    "from sklearn.preprocessing import StandardScaler\n",
    "from sklearn.pipeline import Pipeline"
   ]
  },
  {
   "cell_type": "code",
   "execution_count": 2,
   "id": "62609b58",
   "metadata": {
    "scrolled": true
   },
   "outputs": [
    {
     "name": "stderr",
     "output_type": "stream",
     "text": [
      "2022-11-08 16:21:02.424953: I tensorflow/core/platform/cpu_feature_guard.cc:193] This TensorFlow binary is optimized with oneAPI Deep Neural Network Library (oneDNN) to use the following CPU instructions in performance-critical operations:  AVX2 FMA\n",
      "To enable them in other operations, rebuild TensorFlow with the appropriate compiler flags.\n"
     ]
    }
   ],
   "source": [
    "# Reconstruct models and evaluate on test data:\n",
    "baseline = models.load_model('/Users/taylor/Desktop/DS340W/term_project/models/baseline')\n",
    "smaller = models.load_model('/Users/taylor/Desktop/DS340W/term_project/models/smaller')\n",
    "larger = models.load_model('/Users/taylor/Desktop/DS340W/term_project/models/12layerNN')\n",
    "\n",
    "# read in test dataset\n",
    "test_df = pd.read_csv('/Users/taylor/Desktop/DS340W/term_project/data/wisconsin/wisconsin_test.csv')\n",
    "test_dataset = test_df.values\n",
    "\n",
    "test_X = test_dataset[:,0:30].astype(float)\n",
    "test_Y = test_dataset[:,30]\n",
    "\n",
    "# encode class values as integers\n",
    "encoder = LabelEncoder()\n",
    "\n",
    "encoder.fit(test_Y)\n",
    "encoded_test_Y = encoder.transform(test_Y)"
   ]
  },
  {
   "cell_type": "code",
   "execution_count": 3,
   "id": "ad815bd2",
   "metadata": {},
   "outputs": [
    {
     "name": "stdout",
     "output_type": "stream",
     "text": [
      "INFO:tensorflow:Assets written to: ram:///var/folders/l3/ksrzbkl95qj78n24vwjd3hch0000gq/T/tmpt9z3aug_/assets\n",
      "INFO:tensorflow:Assets written to: ram:///var/folders/l3/ksrzbkl95qj78n24vwjd3hch0000gq/T/tmpm65d89r3/assets\n",
      "INFO:tensorflow:Assets written to: ram:///var/folders/l3/ksrzbkl95qj78n24vwjd3hch0000gq/T/tmpgf4gl1o6/assets\n",
      "INFO:tensorflow:Assets written to: ram:///var/folders/l3/ksrzbkl95qj78n24vwjd3hch0000gq/T/tmpxqbxwg1o/assets\n",
      "INFO:tensorflow:Assets written to: ram:///var/folders/l3/ksrzbkl95qj78n24vwjd3hch0000gq/T/tmp4vafd37k/assets\n",
      "WARNING:tensorflow:5 out of the last 5 calls to <function Model.make_predict_function.<locals>.predict_function at 0x129001510> triggered tf.function retracing. Tracing is expensive and the excessive number of tracings could be due to (1) creating @tf.function repeatedly in a loop, (2) passing tensors with different shapes, (3) passing Python objects instead of tensors. For (1), please define your @tf.function outside of the loop. For (2), @tf.function has reduce_retracing=True option that can avoid unnecessary retracing. For (3), please refer to https://www.tensorflow.org/guide/function#controlling_retracing and https://www.tensorflow.org/api_docs/python/tf/function for  more details.\n",
      "INFO:tensorflow:Assets written to: ram:///var/folders/l3/ksrzbkl95qj78n24vwjd3hch0000gq/T/tmpihwgxlrw/assets\n",
      "WARNING:tensorflow:6 out of the last 6 calls to <function Model.make_predict_function.<locals>.predict_function at 0x129002200> triggered tf.function retracing. Tracing is expensive and the excessive number of tracings could be due to (1) creating @tf.function repeatedly in a loop, (2) passing tensors with different shapes, (3) passing Python objects instead of tensors. For (1), please define your @tf.function outside of the loop. For (2), @tf.function has reduce_retracing=True option that can avoid unnecessary retracing. For (3), please refer to https://www.tensorflow.org/guide/function#controlling_retracing and https://www.tensorflow.org/api_docs/python/tf/function for  more details.\n",
      "INFO:tensorflow:Assets written to: ram:///var/folders/l3/ksrzbkl95qj78n24vwjd3hch0000gq/T/tmp2qcnzqxj/assets\n",
      "INFO:tensorflow:Assets written to: ram:///var/folders/l3/ksrzbkl95qj78n24vwjd3hch0000gq/T/tmpvfatfk4q/assets\n",
      "INFO:tensorflow:Assets written to: ram:///var/folders/l3/ksrzbkl95qj78n24vwjd3hch0000gq/T/tmpj8yk_v0t/assets\n",
      "INFO:tensorflow:Assets written to: ram:///var/folders/l3/ksrzbkl95qj78n24vwjd3hch0000gq/T/tmp3_0dsf_a/assets\n",
      "Baseline: 98.27% (2.65%)\n"
     ]
    }
   ],
   "source": [
    "######################### Testing Baseline ###################################\n",
    "estimators = []\n",
    "\n",
    "estimators.append(('standardize', StandardScaler()))\n",
    "estimators.append(('mlp', KerasClassifier(model=baseline, epochs=100, batch_size=32, verbose=0)))\n",
    "\n",
    "pipeline = Pipeline(estimators)\n",
    "kfold = StratifiedKFold(n_splits=10, shuffle=True)\n",
    "results = cross_val_score(pipeline, test_X, encoded_test_Y, cv=kfold)\n",
    "\n",
    "print(\"Baseline: %.2f%% (%.2f%%)\" % (results.mean()*100, results.std()*100))"
   ]
  },
  {
   "cell_type": "code",
   "execution_count": 4,
   "id": "73939b2d",
   "metadata": {
    "scrolled": true
   },
   "outputs": [
    {
     "name": "stdout",
     "output_type": "stream",
     "text": [
      "INFO:tensorflow:Assets written to: ram:///var/folders/l3/ksrzbkl95qj78n24vwjd3hch0000gq/T/tmpsla4gzbg/assets\n",
      "INFO:tensorflow:Assets written to: ram:///var/folders/l3/ksrzbkl95qj78n24vwjd3hch0000gq/T/tmpgpixbxsz/assets\n",
      "INFO:tensorflow:Assets written to: ram:///var/folders/l3/ksrzbkl95qj78n24vwjd3hch0000gq/T/tmpxw3z203r/assets\n",
      "INFO:tensorflow:Assets written to: ram:///var/folders/l3/ksrzbkl95qj78n24vwjd3hch0000gq/T/tmpugqdwh1h/assets\n",
      "INFO:tensorflow:Assets written to: ram:///var/folders/l3/ksrzbkl95qj78n24vwjd3hch0000gq/T/tmp0nv42zln/assets\n",
      "INFO:tensorflow:Assets written to: ram:///var/folders/l3/ksrzbkl95qj78n24vwjd3hch0000gq/T/tmp6bzj71l5/assets\n",
      "INFO:tensorflow:Assets written to: ram:///var/folders/l3/ksrzbkl95qj78n24vwjd3hch0000gq/T/tmpgqhf3xh1/assets\n",
      "INFO:tensorflow:Assets written to: ram:///var/folders/l3/ksrzbkl95qj78n24vwjd3hch0000gq/T/tmpwkuehizf/assets\n",
      "INFO:tensorflow:Assets written to: ram:///var/folders/l3/ksrzbkl95qj78n24vwjd3hch0000gq/T/tmpo2wrnk8w/assets\n",
      "INFO:tensorflow:Assets written to: ram:///var/folders/l3/ksrzbkl95qj78n24vwjd3hch0000gq/T/tmpvvzmcl75/assets\n",
      "Smaller: 98.27% (2.65%)\n"
     ]
    }
   ],
   "source": [
    "######################### Testing Smaller ###################################\n",
    "\n",
    "estimators = []\n",
    "\n",
    "estimators.append(('standardize', StandardScaler()))\n",
    "estimators.append(('mlp', KerasClassifier(model=smaller, epochs=100, batch_size=32, verbose=0)))\n",
    "\n",
    "pipeline = Pipeline(estimators)\n",
    "kfold = StratifiedKFold(n_splits=10, shuffle=True)\n",
    "results = cross_val_score(pipeline, test_X, encoded_test_Y, cv=kfold)\n",
    "\n",
    "print(\"Smaller: %.2f%% (%.2f%%)\" % (results.mean()*100, results.std()*100))"
   ]
  },
  {
   "cell_type": "code",
   "execution_count": 6,
   "id": "d3c9df62",
   "metadata": {},
   "outputs": [
    {
     "name": "stdout",
     "output_type": "stream",
     "text": [
      "INFO:tensorflow:Assets written to: ram:///var/folders/l3/ksrzbkl95qj78n24vwjd3hch0000gq/T/tmperh2yjto/assets\n",
      "INFO:tensorflow:Assets written to: ram:///var/folders/l3/ksrzbkl95qj78n24vwjd3hch0000gq/T/tmpzgrc5ukm/assets\n",
      "INFO:tensorflow:Assets written to: ram:///var/folders/l3/ksrzbkl95qj78n24vwjd3hch0000gq/T/tmpiq2jfl3q/assets\n",
      "INFO:tensorflow:Assets written to: ram:///var/folders/l3/ksrzbkl95qj78n24vwjd3hch0000gq/T/tmpawf3wtt8/assets\n",
      "INFO:tensorflow:Assets written to: ram:///var/folders/l3/ksrzbkl95qj78n24vwjd3hch0000gq/T/tmph7uivcnl/assets\n",
      "INFO:tensorflow:Assets written to: ram:///var/folders/l3/ksrzbkl95qj78n24vwjd3hch0000gq/T/tmpc5_fgz6x/assets\n",
      "INFO:tensorflow:Assets written to: ram:///var/folders/l3/ksrzbkl95qj78n24vwjd3hch0000gq/T/tmpussra5it/assets\n",
      "INFO:tensorflow:Assets written to: ram:///var/folders/l3/ksrzbkl95qj78n24vwjd3hch0000gq/T/tmpdtn7d_5d/assets\n",
      "INFO:tensorflow:Assets written to: ram:///var/folders/l3/ksrzbkl95qj78n24vwjd3hch0000gq/T/tmp81v561r0/assets\n",
      "INFO:tensorflow:Assets written to: ram:///var/folders/l3/ksrzbkl95qj78n24vwjd3hch0000gq/T/tmpy0gm5a_8/assets\n",
      "Larger: 97.06% (3.95%)\n"
     ]
    }
   ],
   "source": [
    "######################### Testing Larger ####################################\n",
    "\n",
    "estimators = []\n",
    "\n",
    "estimators.append(('standardize', StandardScaler()))\n",
    "estimators.append(('mlp', KerasClassifier(model=larger, epochs=100, batch_size=32, verbose=0)))\n",
    "\n",
    "pipeline = Pipeline(estimators)\n",
    "kfold = StratifiedKFold(n_splits=10, shuffle=True)\n",
    "results = cross_val_score(pipeline, test_X, encoded_test_Y, cv=kfold)\n",
    "\n",
    "print(\"Larger: %.2f%% (%.2f%%)\" % (results.mean()*100, results.std()*100))"
   ]
  }
 ],
 "metadata": {
  "kernelspec": {
   "display_name": "Python 3 (ipykernel)",
   "language": "python",
   "name": "python3"
  },
  "language_info": {
   "codemirror_mode": {
    "name": "ipython",
    "version": 3
   },
   "file_extension": ".py",
   "mimetype": "text/x-python",
   "name": "python",
   "nbconvert_exporter": "python",
   "pygments_lexer": "ipython3",
   "version": "3.10.8"
  }
 },
 "nbformat": 4,
 "nbformat_minor": 5
}

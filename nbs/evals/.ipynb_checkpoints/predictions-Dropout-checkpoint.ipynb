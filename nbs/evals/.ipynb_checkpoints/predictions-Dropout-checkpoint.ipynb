{
 "cells": [
  {
   "cell_type": "code",
   "execution_count": 1,
   "id": "23a9efc7",
   "metadata": {},
   "outputs": [
    {
     "name": "stderr",
     "output_type": "stream",
     "text": [
      "2022-12-04 01:46:44.278972: I tensorflow/core/platform/cpu_feature_guard.cc:193] This TensorFlow binary is optimized with oneAPI Deep Neural Network Library (oneDNN) to use the following CPU instructions in performance-critical operations:  AVX2 FMA\n",
      "To enable them in other operations, rebuild TensorFlow with the appropriate compiler flags.\n"
     ]
    }
   ],
   "source": [
    "# imports\n",
    "import pandas as pd\n",
    "from keras import models\n",
    "from tensorflow.keras.models import Sequential\n",
    "from tensorflow.keras.layers import Dense\n",
    "from sklearn.preprocessing import LabelEncoder\n",
    "import numpy as np\n",
    "\n",
    "from sklearn import metrics\n",
    "import matplotlib.pyplot as plt"
   ]
  },
  {
   "cell_type": "code",
   "execution_count": 2,
   "id": "7e368b17",
   "metadata": {},
   "outputs": [],
   "source": [
    "# read in data\n",
    "test_df = pd.read_csv('/Users/taylor/Desktop/DS340W/term_project/data/wisconsin/wisconsin_test.csv')\n",
    "test_dataset = test_df.values\n",
    "\n",
    "test_X = test_dataset[:,0:30].astype(float)\n",
    "test_Y = test_dataset[:,30]\n",
    "\n",
    "# encode class values as integers\n",
    "encoder = LabelEncoder()\n",
    "\n",
    "encoder.fit(test_Y)\n",
    "encoded_test_Y = encoder.transform(test_Y)"
   ]
  },
  {
   "cell_type": "code",
   "execution_count": 3,
   "id": "6704e039",
   "metadata": {},
   "outputs": [
    {
     "name": "stderr",
     "output_type": "stream",
     "text": [
      "2022-12-04 01:47:53.073065: I tensorflow/core/platform/cpu_feature_guard.cc:193] This TensorFlow binary is optimized with oneAPI Deep Neural Network Library (oneDNN) to use the following CPU instructions in performance-critical operations:  AVX2 FMA\n",
      "To enable them in other operations, rebuild TensorFlow with the appropriate compiler flags.\n"
     ]
    }
   ],
   "source": [
    "# Reconstruct models\n",
    "baseNetDrop = models.load_model('/Users/taylor/Desktop/DS340W/term_project/models/baseNetDrop')\n",
    "smallNetDrop = models.load_model('/Users/taylor/Desktop/DS340W/term_project/models/smallNetDrop')\n",
    "bigNet5Drop = models.load_model('/Users/taylor/Desktop/DS340W/term_project/models/bigNet5Drop')\n",
    "bigNet7Drop = models.load_model('/Users/taylor/Desktop/DS340W/term_project/models/bigNet7Drop')\n",
    "bigNet10Drop = models.load_model('/Users/taylor/Desktop/DS340W/term_project/models/bigNet10Drop')\n",
    "bigNet15Drop = models.load_model('/Users/taylor/Desktop/DS340W/term_project/models/bigNet15Drop')"
   ]
  },
  {
   "cell_type": "code",
   "execution_count": 4,
   "id": "41d9f8d9",
   "metadata": {},
   "outputs": [
    {
     "name": "stdout",
     "output_type": "stream",
     "text": [
      "6/6 [==============================] - 0s 2ms/step\n"
     ]
    }
   ],
   "source": [
    "# baseNet prediction\n",
    "pred = np.round(baseNetDrop.predict(test_X)[:10],0)\n",
    "pred = [int(i) for i in pred]\n",
    "\n",
    "label = encoded_test_Y[:10]\n",
    "label = [int(i) for i in label]"
   ]
  },
  {
   "cell_type": "code",
   "execution_count": 5,
   "id": "f51345b2",
   "metadata": {},
   "outputs": [
    {
     "name": "stdout",
     "output_type": "stream",
     "text": [
      "[0, 1, 1, 0, 0, 1, 1, 1, 0, 0]\n",
      "[0, 1, 1, 0, 0, 1, 1, 1, 0, 0]\n"
     ]
    }
   ],
   "source": [
    "print(pred) \n",
    "print(label)"
   ]
  },
  {
   "cell_type": "code",
   "execution_count": 6,
   "id": "909edde8",
   "metadata": {},
   "outputs": [
    {
     "name": "stdout",
     "output_type": "stream",
     "text": [
      "6/6 [==============================] - 0s 2ms/step\n"
     ]
    }
   ],
   "source": [
    "# smallNet prediction\n",
    "pred = np.round(smallNetDrop.predict(test_X)[:10],0)\n",
    "pred = [int(i) for i in pred]"
   ]
  },
  {
   "cell_type": "code",
   "execution_count": 7,
   "id": "f566b241",
   "metadata": {},
   "outputs": [
    {
     "name": "stdout",
     "output_type": "stream",
     "text": [
      "[0, 1, 1, 0, 0, 1, 1, 1, 0, 0]\n",
      "[0, 1, 1, 0, 0, 1, 1, 1, 0, 0]\n"
     ]
    }
   ],
   "source": [
    "print(pred) \n",
    "print(label)"
   ]
  },
  {
   "cell_type": "code",
   "execution_count": 8,
   "id": "2b379a76",
   "metadata": {},
   "outputs": [
    {
     "name": "stdout",
     "output_type": "stream",
     "text": [
      "6/6 [==============================] - 0s 2ms/step\n"
     ]
    }
   ],
   "source": [
    "# bigNet5 prediction\n",
    "pred = np.round(bigNet5Drop.predict(test_X)[:10],0)\n",
    "pred = [int(i) for i in pred]"
   ]
  },
  {
   "cell_type": "code",
   "execution_count": 9,
   "id": "212e2314",
   "metadata": {},
   "outputs": [
    {
     "name": "stdout",
     "output_type": "stream",
     "text": [
      "[1, 1, 1, 0, 0, 1, 1, 1, 1, 0]\n",
      "[0, 1, 1, 0, 0, 1, 1, 1, 0, 0]\n"
     ]
    }
   ],
   "source": [
    "print(pred) \n",
    "print(label)"
   ]
  },
  {
   "cell_type": "code",
   "execution_count": 10,
   "id": "262819b5",
   "metadata": {},
   "outputs": [
    {
     "name": "stdout",
     "output_type": "stream",
     "text": [
      "6/6 [==============================] - 0s 3ms/step\n"
     ]
    }
   ],
   "source": [
    "# bigNet7 prediction\n",
    "pred = np.round(bigNet7Drop.predict(test_X)[:10],0)\n",
    "pred = [int(i) for i in pred]"
   ]
  },
  {
   "cell_type": "code",
   "execution_count": 11,
   "id": "181b6c28",
   "metadata": {},
   "outputs": [
    {
     "name": "stdout",
     "output_type": "stream",
     "text": [
      "[0, 1, 1, 0, 0, 1, 1, 1, 0, 0]\n",
      "[0, 1, 1, 0, 0, 1, 1, 1, 0, 0]\n"
     ]
    }
   ],
   "source": [
    "print(pred) \n",
    "print(label)"
   ]
  },
  {
   "cell_type": "code",
   "execution_count": 12,
   "id": "a53fc5b6",
   "metadata": {},
   "outputs": [
    {
     "name": "stdout",
     "output_type": "stream",
     "text": [
      "6/6 [==============================] - 0s 2ms/step\n"
     ]
    }
   ],
   "source": [
    "# bigNet10 prediction\n",
    "pred = np.round(bigNet10Drop.predict(test_X)[:10],0)\n",
    "pred = [int(i) for i in pred]"
   ]
  },
  {
   "cell_type": "code",
   "execution_count": 13,
   "id": "064b33e5",
   "metadata": {},
   "outputs": [
    {
     "name": "stdout",
     "output_type": "stream",
     "text": [
      "[0, 1, 1, 0, 0, 1, 1, 1, 0, 0]\n",
      "[0, 1, 1, 0, 0, 1, 1, 1, 0, 0]\n"
     ]
    }
   ],
   "source": [
    "print(pred) \n",
    "print(label)"
   ]
  },
  {
   "cell_type": "code",
   "execution_count": 14,
   "id": "d6fdfd52",
   "metadata": {},
   "outputs": [
    {
     "name": "stdout",
     "output_type": "stream",
     "text": [
      "6/6 [==============================] - 0s 2ms/step\n"
     ]
    }
   ],
   "source": [
    "# bigNet15 prediction\n",
    "pred = np.round(bigNet15Drop.predict(test_X)[:10],0)\n",
    "pred = [int(i) for i in pred]"
   ]
  },
  {
   "cell_type": "code",
   "execution_count": 15,
   "id": "31c8a639",
   "metadata": {},
   "outputs": [
    {
     "name": "stdout",
     "output_type": "stream",
     "text": [
      "[1, 1, 1, 0, 0, 1, 1, 1, 1, 0]\n",
      "[0, 1, 1, 0, 0, 1, 1, 1, 0, 0]\n"
     ]
    }
   ],
   "source": [
    "print(pred) \n",
    "print(label)"
   ]
  },
  {
   "cell_type": "code",
   "execution_count": 16,
   "id": "4987e147",
   "metadata": {},
   "outputs": [],
   "source": [
    "# Plot ROC curves"
   ]
  },
  {
   "cell_type": "code",
   "execution_count": 17,
   "id": "fcf06f02",
   "metadata": {},
   "outputs": [],
   "source": [
    "# Baseline model"
   ]
  },
  {
   "cell_type": "code",
   "execution_count": 18,
   "id": "689a3eab",
   "metadata": {},
   "outputs": [
    {
     "name": "stdout",
     "output_type": "stream",
     "text": [
      "6/6 [==============================] - 0s 2ms/step\n"
     ]
    },
    {
     "data": {
      "image/png": "[encoded data removed]",
      "text/plain": [
       "<Figure size 640x480 with 1 Axes>"
      ]
     },
     "metadata": {},
     "output_type": "display_data"
    }
   ],
   "source": [
    "# define metrics\n",
    "y_pred_prob = baseNetDrop.predict(test_X)\n",
    "fpr, tpr, _ = metrics.roc_curve(encoded_test_Y,  y_pred_prob)\n",
    "\n",
    "# plot ROC curve\n",
    "plt.plot(fpr,tpr)\n",
    "plt.ylabel('True Positive Rate')\n",
    "plt.xlabel('False Positive Rate')\n",
    "plt.title('Baseline Model')\n",
    "plt.show()"
   ]
  },
  {
   "cell_type": "code",
   "execution_count": 19,
   "id": "1a35029a",
   "metadata": {},
   "outputs": [
    {
     "name": "stdout",
     "output_type": "stream",
     "text": [
      "Predicted    0   1\n",
      "Actual            \n",
      "0          107   1\n",
      "1            1  62\n"
     ]
    }
   ],
   "source": [
    "y_pred = []\n",
    "\n",
    "for i in y_pred_prob:\n",
    "    y_pred.append(int(np.round(i,0)))\n",
    "    \n",
    "y_actual = pd.Series(encoded_test_Y, name='Actual')\n",
    "y_predicted = pd.Series(y_pred, name='Predicted')\n",
    "\n",
    "conf_matrix = pd.crosstab(y_actual, y_predicted)\n",
    "print(conf_matrix)"
   ]
  },
  {
   "cell_type": "code",
   "execution_count": 20,
   "id": "e3178b0c",
   "metadata": {},
   "outputs": [],
   "source": [
    "# Baseline statistics:\n",
    "    # Specificity = tn / (tn + fp) = 107 / (107 + 1) = 0.9907\n",
    "    # Sensitivity = tp / (tp + fn) = 62 / (62 + 1) = 0.984\n",
    "    # Precision = tp /(fp + tp) = 62 / (1 + 62) = 0.984\n",
    "    # F-score = (2 * sensitivity * precision) / (sensitivity + precision) = (2*.984*.984) / (.984 + .984) = 0.984"
   ]
  },
  {
   "cell_type": "code",
   "execution_count": 21,
   "id": "f58d7b18",
   "metadata": {},
   "outputs": [],
   "source": [
    "# Small model"
   ]
  },
  {
   "cell_type": "code",
   "execution_count": 22,
   "id": "2d80cdc3",
   "metadata": {},
   "outputs": [
    {
     "name": "stdout",
     "output_type": "stream",
     "text": [
      "6/6 [==============================] - 0s 2ms/step\n"
     ]
    },
    {
     "data": {
      "image/png": "[encoded data removed]",
      "text/plain": [
       "<Figure size 640x480 with 1 Axes>"
      ]
     },
     "metadata": {},
     "output_type": "display_data"
    }
   ],
   "source": [
    "# define metrics\n",
    "y_pred_prob = smallNetDrop.predict(test_X)\n",
    "fpr, tpr, _ = metrics.roc_curve(encoded_test_Y,  y_pred_prob)\n",
    "\n",
    "# plot ROC curve\n",
    "plt.plot(fpr,tpr)\n",
    "plt.ylabel('True Positive Rate')\n",
    "plt.xlabel('False Positive Rate')\n",
    "plt.title('Small Model')\n",
    "plt.show()"
   ]
  },
  {
   "cell_type": "code",
   "execution_count": 23,
   "id": "8ba2e845",
   "metadata": {},
   "outputs": [
    {
     "name": "stdout",
     "output_type": "stream",
     "text": [
      "Predicted    0   1\n",
      "Actual            \n",
      "0          107   1\n",
      "1            1  62\n"
     ]
    }
   ],
   "source": [
    "y_pred = []\n",
    "\n",
    "for i in y_pred_prob:\n",
    "    y_pred.append(int(np.round(i,0)))\n",
    "    \n",
    "y_predicted = pd.Series(y_pred, name='Predicted')\n",
    "\n",
    "conf_matrix = pd.crosstab(y_actual, y_predicted)\n",
    "print(conf_matrix)"
   ]
  },
  {
   "cell_type": "code",
   "execution_count": 24,
   "id": "056c0325",
   "metadata": {},
   "outputs": [],
   "source": [
    "# Small model statistics:\n",
    "    # Specificity = tn / (tn + fp) = 107 / (107 + 1) = 0.9907\n",
    "    # Sensitivity = tp / (tp + fn) = 62 / (62 + 1) = 0.984\n",
    "    # Precision = tp /(fp + tp) = 62 / (1 + 62) = 0.984\n",
    "    # F-score = (2 * sensitivity * precision) / (sensitivity + precision) = (2*.984*.984) / (.984 + .984) = 0.984"
   ]
  },
  {
   "cell_type": "code",
   "execution_count": 25,
   "id": "18685682",
   "metadata": {},
   "outputs": [],
   "source": [
    "# BigNet5 model"
   ]
  },
  {
   "cell_type": "code",
   "execution_count": 26,
   "id": "ae34694c",
   "metadata": {},
   "outputs": [
    {
     "name": "stdout",
     "output_type": "stream",
     "text": [
      "6/6 [==============================] - 0s 2ms/step\n"
     ]
    },
    {
     "data": {
      "image/png": "[encoded data removed]",
      "text/plain": [
       "<Figure size 640x480 with 1 Axes>"
      ]
     },
     "metadata": {},
     "output_type": "display_data"
    }
   ],
   "source": [
    "# define metrics\n",
    "y_pred_prob = bigNet5Drop.predict(test_X)\n",
    "fpr, tpr, _ = metrics.roc_curve(encoded_test_Y,  y_pred_prob)\n",
    "\n",
    "# plot ROC curve\n",
    "plt.plot(fpr,tpr)\n",
    "plt.ylabel('True Positive Rate')\n",
    "plt.xlabel('False Positive Rate')\n",
    "plt.title('BigNet5 Model')\n",
    "plt.show()"
   ]
  },
  {
   "cell_type": "code",
   "execution_count": 27,
   "id": "c524495b",
   "metadata": {},
   "outputs": [
    {
     "name": "stdout",
     "output_type": "stream",
     "text": [
      "Predicted    0   1\n",
      "Actual            \n",
      "0          100   8\n",
      "1            0  63\n"
     ]
    }
   ],
   "source": [
    "y_pred = []\n",
    "\n",
    "for i in y_pred_prob:\n",
    "    y_pred.append(int(np.round(i,0)))\n",
    "    \n",
    "y_predicted = pd.Series(y_pred, name='Predicted')\n",
    "\n",
    "conf_matrix = pd.crosstab(y_actual, y_predicted)\n",
    "print(conf_matrix)"
   ]
  },
  {
   "cell_type": "code",
   "execution_count": 28,
   "id": "225a48b5",
   "metadata": {},
   "outputs": [],
   "source": [
    "# BigNet5 model statistics:\n",
    "    # Specificity = tn / (tn + fp) = 100 / (100 + 8) = 0.9259\n",
    "    # Sensitivity = tp / (tp + fn) = 63 / (63 + 0) = 1\n",
    "    # Precision = tp /(fp + tp) = 63 / (8 + 63) = 0.8873\n",
    "    # F-score = (2 * sensitivity * precision) / (sensitivity + precision) = (2*1*.8873) / (1 + .8873) = 0.9403"
   ]
  },
  {
   "cell_type": "code",
   "execution_count": 29,
   "id": "e9508861",
   "metadata": {},
   "outputs": [],
   "source": [
    "# BigNet7 model"
   ]
  },
  {
   "cell_type": "code",
   "execution_count": 30,
   "id": "7c4fcca3",
   "metadata": {},
   "outputs": [
    {
     "name": "stdout",
     "output_type": "stream",
     "text": [
      "6/6 [==============================] - 0s 2ms/step\n"
     ]
    },
    {
     "data": {
      "image/png": "[encoded data removed]",
      "text/plain": [
       "<Figure size 640x480 with 1 Axes>"
      ]
     },
     "metadata": {},
     "output_type": "display_data"
    }
   ],
   "source": [
    "# define metrics\n",
    "y_pred_prob = bigNet7Drop.predict(test_X)\n",
    "fpr, tpr, _ = metrics.roc_curve(encoded_test_Y,  y_pred_prob)\n",
    "\n",
    "# plot ROC curve\n",
    "plt.plot(fpr,tpr)\n",
    "plt.ylabel('True Positive Rate')\n",
    "plt.xlabel('False Positive Rate')\n",
    "plt.title('BigNet7 Model')\n",
    "plt.show()"
   ]
  },
  {
   "cell_type": "code",
   "execution_count": 31,
   "id": "a4d75c73",
   "metadata": {},
   "outputs": [
    {
     "name": "stdout",
     "output_type": "stream",
     "text": [
      "Predicted    0   1\n",
      "Actual            \n",
      "0          101   7\n",
      "1            2  61\n"
     ]
    }
   ],
   "source": [
    "y_pred = []\n",
    "\n",
    "for i in y_pred_prob:\n",
    "    y_pred.append(int(np.round(i,0)))\n",
    "    \n",
    "y_predicted = pd.Series(y_pred, name='Predicted')\n",
    "\n",
    "conf_matrix = pd.crosstab(y_actual, y_predicted)\n",
    "print(conf_matrix)"
   ]
  },
  {
   "cell_type": "code",
   "execution_count": 32,
   "id": "c7c60e3f",
   "metadata": {},
   "outputs": [],
   "source": [
    "# BigNet7 model statistics:\n",
    "    # Specificity = tn / (tn + fp) = 101 / (101 + 7) = 0.9352\n",
    "    # Sensitivity = tp / (tp + fn) = 61 / (61 + 2) = 0.9683\n",
    "    # Precision = tp /(fp + tp) = 61 / (7 + 61) = 0.8971\n",
    "    # F-score = (2 * sensitivity * precision) / (sensitivity + precision) = (2*.9683*.8971) / (.9683 + .8971) = 0.9313"
   ]
  },
  {
   "cell_type": "code",
   "execution_count": 33,
   "id": "09e2ee66",
   "metadata": {},
   "outputs": [],
   "source": [
    "# BigNet10 model"
   ]
  },
  {
   "cell_type": "code",
   "execution_count": 34,
   "id": "d1745166",
   "metadata": {},
   "outputs": [
    {
     "name": "stdout",
     "output_type": "stream",
     "text": [
      "6/6 [==============================] - 0s 3ms/step\n"
     ]
    },
    {
     "data": {
      "image/png": "[encoded data removed]",
      "text/plain": [
       "<Figure size 640x480 with 1 Axes>"
      ]
     },
     "metadata": {},
     "output_type": "display_data"
    }
   ],
   "source": [
    "# define metrics\n",
    "y_pred_prob = bigNet10Drop.predict(test_X)\n",
    "fpr, tpr, _ = metrics.roc_curve(encoded_test_Y,  y_pred_prob)\n",
    "\n",
    "# plot ROC curve\n",
    "plt.plot(fpr,tpr)\n",
    "plt.ylabel('True Positive Rate')\n",
    "plt.xlabel('False Positive Rate')\n",
    "plt.title('BigNet10 Model')\n",
    "plt.show()"
   ]
  },
  {
   "cell_type": "code",
   "execution_count": 35,
   "id": "8139a57a",
   "metadata": {},
   "outputs": [
    {
     "name": "stdout",
     "output_type": "stream",
     "text": [
      "Predicted    0   1\n",
      "Actual            \n",
      "0          104   4\n",
      "1            1  62\n"
     ]
    }
   ],
   "source": [
    "y_pred = []\n",
    "\n",
    "for i in y_pred_prob:\n",
    "    y_pred.append(int(np.round(i,0)))\n",
    "    \n",
    "y_predicted = pd.Series(y_pred, name='Predicted')\n",
    "\n",
    "conf_matrix = pd.crosstab(y_actual, y_predicted)\n",
    "print(conf_matrix)"
   ]
  },
  {
   "cell_type": "code",
   "execution_count": 36,
   "id": "4c0484a7",
   "metadata": {},
   "outputs": [],
   "source": [
    "# BigNet10 model statistics:\n",
    "    # Specificity = tn / (tn + fp) = 104 / (104 + 4) = 0.9630\n",
    "    # Sensitivity = tp / (tp + fn) = 62 / (62 + 1) = 0.9841\n",
    "    # Precision = tp /(fp + tp) = 62 / (4 + 62) = 0.9394\n",
    "    # F-score = (2 * sensitivity * precision) / (sensitivity + precision) = (2*.9841*.9394) / (.9841 + .9394) = 0.9612"
   ]
  },
  {
   "cell_type": "code",
   "execution_count": 37,
   "id": "470b4ef9",
   "metadata": {},
   "outputs": [],
   "source": [
    "# BigNet15 model"
   ]
  },
  {
   "cell_type": "code",
   "execution_count": 38,
   "id": "8dbabb89",
   "metadata": {},
   "outputs": [
    {
     "name": "stdout",
     "output_type": "stream",
     "text": [
      "6/6 [==============================] - 0s 3ms/step\n"
     ]
    },
    {
     "data": {
      "image/png": "[encoded data removed]",
      "text/plain": [
       "<Figure size 640x480 with 1 Axes>"
      ]
     },
     "metadata": {},
     "output_type": "display_data"
    }
   ],
   "source": [
    "# define metrics\n",
    "y_pred_prob = bigNet15Drop.predict(test_X)\n",
    "fpr, tpr, _ = metrics.roc_curve(encoded_test_Y,  y_pred_prob)\n",
    "\n",
    "# plot ROC curve\n",
    "plt.plot(fpr,tpr)\n",
    "plt.ylabel('True Positive Rate')\n",
    "plt.xlabel('False Positive Rate')\n",
    "plt.title('BigNet15 Model')\n",
    "plt.show()"
   ]
  },
  {
   "cell_type": "code",
   "execution_count": 39,
   "id": "9b73a7b1",
   "metadata": {},
   "outputs": [
    {
     "name": "stdout",
     "output_type": "stream",
     "text": [
      "Predicted   0   1\n",
      "Actual           \n",
      "0          98  10\n",
      "1           0  63\n"
     ]
    }
   ],
   "source": [
    "y_pred = []\n",
    "\n",
    "for i in y_pred_prob:\n",
    "    y_pred.append(int(np.round(i,0)))\n",
    "    \n",
    "y_predicted = pd.Series(y_pred, name='Predicted')\n",
    "\n",
    "conf_matrix = pd.crosstab(y_actual, y_predicted)\n",
    "print(conf_matrix)"
   ]
  },
  {
   "cell_type": "code",
   "execution_count": 40,
   "id": "84401d05",
   "metadata": {},
   "outputs": [],
   "source": [
    "# BigNet15 model statistics:\n",
    "    # Specificity = tn / (tn + fp) = 98 / (98 + 10) = 0.9074\n",
    "    # Sensitivity = tp / (tp + fn) = 63 / (63 + 0) = 1\n",
    "    # Precision = tp /(fp + tp) = 63 / (10 + 63) = 0.863\n",
    "    # F-score = (2 * sensitivity * precision) / (sensitivity + precision) = (2*1*.863) / (1 + .863) = 0.9265"
   ]
  }
 ],
 "metadata": {
  "kernelspec": {
   "display_name": "Python 3 (ipykernel)",
   "language": "python",
   "name": "python3"
  },
  "language_info": {
   "codemirror_mode": {
    "name": "ipython",
    "version": 3
   },
   "file_extension": ".py",
   "mimetype": "text/x-python",
   "name": "python",
   "nbconvert_exporter": "python",
   "pygments_lexer": "ipython3",
   "version": "3.8.1"
  }
 },
 "nbformat": 4,
 "nbformat_minor": 5
}

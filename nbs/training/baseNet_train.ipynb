{
 "cells": [
  {
   "cell_type": "code",
   "execution_count": 1,
   "id": "dede2d09",
   "metadata": {
    "scrolled": true
   },
   "outputs": [
    {
     "name": "stderr",
     "output_type": "stream",
     "text": [
      "2022-11-09 18:40:35.860289: I tensorflow/core/platform/cpu_feature_guard.cc:193] This TensorFlow binary is optimized with oneAPI Deep Neural Network Library (oneDNN) to use the following CPU instructions in performance-critical operations:  AVX2 FMA\n",
      "To enable them in other operations, rebuild TensorFlow with the appropriate compiler flags.\n"
     ]
    }
   ],
   "source": [
    "# imports\n",
    "import pandas as pd\n",
    "from keras import models\n",
    "from sklearn.preprocessing import LabelEncoder\n",
    "from tensorflow.keras.models import Sequential\n",
    "from tensorflow.keras.layers import Dense"
   ]
  },
  {
   "cell_type": "code",
   "execution_count": 2,
   "id": "1f889a66",
   "metadata": {},
   "outputs": [],
   "source": [
    "# load dataset\n",
    "df = pd.read_csv('/Users/taylor/Desktop/DS340W/term_project/data/wisconsin/wisconsin_train_balanced.csv')\n",
    "dataset = df.values\n",
    "\n",
    "# split into input (X) and output (Y) variables\n",
    "X = dataset[:,0:30].astype(float)\n",
    "Y = dataset[:,30]\n",
    "\n",
    "# encode class values as integers\n",
    "encoder = LabelEncoder()\n",
    "\n",
    "encoder.fit(Y)\n",
    "encoded_Y = encoder.transform(Y)"
   ]
  },
  {
   "cell_type": "code",
   "execution_count": 3,
   "id": "b6c1c245",
   "metadata": {},
   "outputs": [
    {
     "name": "stderr",
     "output_type": "stream",
     "text": [
      "2022-11-09 18:40:42.254408: I tensorflow/core/platform/cpu_feature_guard.cc:193] This TensorFlow binary is optimized with oneAPI Deep Neural Network Library (oneDNN) to use the following CPU instructions in performance-critical operations:  AVX2 FMA\n",
      "To enable them in other operations, rebuild TensorFlow with the appropriate compiler flags.\n"
     ]
    }
   ],
   "source": [
    "# create baseline model\n",
    "baseNet = Sequential()\n",
    "baseNet.add(Dense(units = 30, input_shape = X[0].shape, activation='relu')) # input + hidden layers\n",
    "baseNet.add(Dense(units = 1, activation = 'sigmoid')) # output layer"
   ]
  },
  {
   "cell_type": "code",
   "execution_count": 4,
   "id": "ff7b301c",
   "metadata": {},
   "outputs": [
    {
     "name": "stdout",
     "output_type": "stream",
     "text": [
      "Epoch 1/100\n",
      "46/46 [==============================] - 1s 2ms/step - loss: 0.6059 - accuracy: 0.6103\n",
      "Epoch 2/100\n",
      "46/46 [==============================] - 0s 2ms/step - loss: 0.5278 - accuracy: 0.7500\n",
      "Epoch 3/100\n",
      "46/46 [==============================] - 0s 2ms/step - loss: 0.4639 - accuracy: 0.8226\n",
      "Epoch 4/100\n",
      "46/46 [==============================] - 0s 2ms/step - loss: 0.4093 - accuracy: 0.8596\n",
      "Epoch 5/100\n",
      "46/46 [==============================] - 0s 2ms/step - loss: 0.3645 - accuracy: 0.8897\n",
      "Epoch 6/100\n",
      "46/46 [==============================] - 0s 2ms/step - loss: 0.3272 - accuracy: 0.8993\n",
      "Epoch 7/100\n",
      "46/46 [==============================] - 0s 2ms/step - loss: 0.3003 - accuracy: 0.9055\n",
      "Epoch 8/100\n",
      "46/46 [==============================] - 0s 2ms/step - loss: 0.2773 - accuracy: 0.9158\n",
      "Epoch 9/100\n",
      "46/46 [==============================] - 0s 2ms/step - loss: 0.2533 - accuracy: 0.9171\n",
      "Epoch 10/100\n",
      "46/46 [==============================] - 0s 2ms/step - loss: 0.2344 - accuracy: 0.9178\n",
      "Epoch 11/100\n",
      "46/46 [==============================] - 0s 2ms/step - loss: 0.2202 - accuracy: 0.9212\n",
      "Epoch 12/100\n",
      "46/46 [==============================] - 0s 2ms/step - loss: 0.2047 - accuracy: 0.9267\n",
      "Epoch 13/100\n",
      "46/46 [==============================] - 0s 2ms/step - loss: 0.1921 - accuracy: 0.9308\n",
      "Epoch 14/100\n",
      "46/46 [==============================] - 0s 2ms/step - loss: 0.1817 - accuracy: 0.9363\n",
      "Epoch 15/100\n",
      "46/46 [==============================] - 0s 2ms/step - loss: 0.1714 - accuracy: 0.9390\n",
      "Epoch 16/100\n",
      "46/46 [==============================] - 0s 2ms/step - loss: 0.1636 - accuracy: 0.9445\n",
      "Epoch 17/100\n",
      "46/46 [==============================] - 0s 2ms/step - loss: 0.1547 - accuracy: 0.9479\n",
      "Epoch 18/100\n",
      "46/46 [==============================] - 0s 2ms/step - loss: 0.1476 - accuracy: 0.9473\n",
      "Epoch 19/100\n",
      "46/46 [==============================] - 0s 2ms/step - loss: 0.1414 - accuracy: 0.9521\n",
      "Epoch 20/100\n",
      "46/46 [==============================] - 0s 2ms/step - loss: 0.1361 - accuracy: 0.9555\n",
      "Epoch 21/100\n",
      "46/46 [==============================] - 0s 2ms/step - loss: 0.1299 - accuracy: 0.9610\n",
      "Epoch 22/100\n",
      "46/46 [==============================] - 0s 2ms/step - loss: 0.1264 - accuracy: 0.9623\n",
      "Epoch 23/100\n",
      "46/46 [==============================] - 0s 2ms/step - loss: 0.1216 - accuracy: 0.9603\n",
      "Epoch 24/100\n",
      "46/46 [==============================] - 0s 2ms/step - loss: 0.1174 - accuracy: 0.9603\n",
      "Epoch 25/100\n",
      "46/46 [==============================] - 0s 2ms/step - loss: 0.1130 - accuracy: 0.9637\n",
      "Epoch 26/100\n",
      "46/46 [==============================] - 0s 2ms/step - loss: 0.1106 - accuracy: 0.9671\n",
      "Epoch 27/100\n",
      "46/46 [==============================] - 0s 2ms/step - loss: 0.1075 - accuracy: 0.9685\n",
      "Epoch 28/100\n",
      "46/46 [==============================] - 0s 2ms/step - loss: 0.1024 - accuracy: 0.9692\n",
      "Epoch 29/100\n",
      "46/46 [==============================] - 0s 2ms/step - loss: 0.1022 - accuracy: 0.9664\n",
      "Epoch 30/100\n",
      "46/46 [==============================] - 0s 2ms/step - loss: 0.0983 - accuracy: 0.9671\n",
      "Epoch 31/100\n",
      "46/46 [==============================] - 0s 2ms/step - loss: 0.0958 - accuracy: 0.9685\n",
      "Epoch 32/100\n",
      "46/46 [==============================] - 0s 2ms/step - loss: 0.0935 - accuracy: 0.9699\n",
      "Epoch 33/100\n",
      "46/46 [==============================] - 0s 2ms/step - loss: 0.0921 - accuracy: 0.9699\n",
      "Epoch 34/100\n",
      "46/46 [==============================] - 0s 2ms/step - loss: 0.0909 - accuracy: 0.9740\n",
      "Epoch 35/100\n",
      "46/46 [==============================] - 0s 2ms/step - loss: 0.0867 - accuracy: 0.9740\n",
      "Epoch 36/100\n",
      "46/46 [==============================] - 0s 2ms/step - loss: 0.0861 - accuracy: 0.9747\n",
      "Epoch 37/100\n",
      "46/46 [==============================] - 0s 2ms/step - loss: 0.0835 - accuracy: 0.9733\n",
      "Epoch 38/100\n",
      "46/46 [==============================] - 0s 2ms/step - loss: 0.0810 - accuracy: 0.9747\n",
      "Epoch 39/100\n",
      "46/46 [==============================] - 0s 2ms/step - loss: 0.0818 - accuracy: 0.9733\n",
      "Epoch 40/100\n",
      "46/46 [==============================] - 0s 2ms/step - loss: 0.0787 - accuracy: 0.9788\n",
      "Epoch 41/100\n",
      "46/46 [==============================] - 0s 2ms/step - loss: 0.0767 - accuracy: 0.9788\n",
      "Epoch 42/100\n",
      "46/46 [==============================] - 0s 2ms/step - loss: 0.0762 - accuracy: 0.9774\n",
      "Epoch 43/100\n",
      "46/46 [==============================] - 0s 2ms/step - loss: 0.0753 - accuracy: 0.9767\n",
      "Epoch 44/100\n",
      "46/46 [==============================] - 0s 2ms/step - loss: 0.0728 - accuracy: 0.9801\n",
      "Epoch 45/100\n",
      "46/46 [==============================] - 0s 2ms/step - loss: 0.0725 - accuracy: 0.9795\n",
      "Epoch 46/100\n",
      "46/46 [==============================] - 0s 2ms/step - loss: 0.0718 - accuracy: 0.9788\n",
      "Epoch 47/100\n",
      "46/46 [==============================] - 0s 2ms/step - loss: 0.0691 - accuracy: 0.9808\n",
      "Epoch 48/100\n",
      "46/46 [==============================] - 0s 2ms/step - loss: 0.0682 - accuracy: 0.9795\n",
      "Epoch 49/100\n",
      "46/46 [==============================] - 0s 2ms/step - loss: 0.0675 - accuracy: 0.9815\n",
      "Epoch 50/100\n",
      "46/46 [==============================] - 0s 2ms/step - loss: 0.0665 - accuracy: 0.9815\n",
      "Epoch 51/100\n",
      "46/46 [==============================] - 0s 2ms/step - loss: 0.0648 - accuracy: 0.9808\n",
      "Epoch 52/100\n",
      "46/46 [==============================] - 0s 2ms/step - loss: 0.0645 - accuracy: 0.9815\n",
      "Epoch 53/100\n",
      "46/46 [==============================] - 0s 2ms/step - loss: 0.0628 - accuracy: 0.9808\n",
      "Epoch 54/100\n",
      "46/46 [==============================] - 0s 2ms/step - loss: 0.0635 - accuracy: 0.9829\n",
      "Epoch 55/100\n",
      "46/46 [==============================] - 0s 2ms/step - loss: 0.0620 - accuracy: 0.9795\n",
      "Epoch 56/100\n",
      "46/46 [==============================] - 0s 2ms/step - loss: 0.0631 - accuracy: 0.9788\n",
      "Epoch 57/100\n",
      "46/46 [==============================] - 0s 2ms/step - loss: 0.0605 - accuracy: 0.9822\n",
      "Epoch 58/100\n",
      "46/46 [==============================] - 0s 3ms/step - loss: 0.0601 - accuracy: 0.9856\n",
      "Epoch 59/100\n",
      "46/46 [==============================] - 0s 2ms/step - loss: 0.0588 - accuracy: 0.9856\n",
      "Epoch 60/100\n",
      "46/46 [==============================] - 0s 1ms/step - loss: 0.0588 - accuracy: 0.9808\n",
      "Epoch 61/100\n",
      "46/46 [==============================] - 0s 1ms/step - loss: 0.0580 - accuracy: 0.9829\n",
      "Epoch 62/100\n",
      "46/46 [==============================] - 0s 1ms/step - loss: 0.0568 - accuracy: 0.9829\n",
      "Epoch 63/100\n",
      "46/46 [==============================] - 0s 1ms/step - loss: 0.0569 - accuracy: 0.9842\n",
      "Epoch 64/100\n",
      "46/46 [==============================] - 0s 1ms/step - loss: 0.0571 - accuracy: 0.9849\n",
      "Epoch 65/100\n",
      "46/46 [==============================] - 0s 1ms/step - loss: 0.0581 - accuracy: 0.9849\n",
      "Epoch 66/100\n",
      "46/46 [==============================] - 0s 1ms/step - loss: 0.0566 - accuracy: 0.9822\n",
      "Epoch 67/100\n",
      "46/46 [==============================] - 0s 1ms/step - loss: 0.0546 - accuracy: 0.9829\n",
      "Epoch 68/100\n",
      "46/46 [==============================] - 0s 1ms/step - loss: 0.0538 - accuracy: 0.9849\n",
      "Epoch 69/100\n",
      "46/46 [==============================] - 0s 1ms/step - loss: 0.0536 - accuracy: 0.9849\n",
      "Epoch 70/100\n",
      "46/46 [==============================] - 0s 1ms/step - loss: 0.0541 - accuracy: 0.9849\n",
      "Epoch 71/100\n",
      "46/46 [==============================] - 0s 1ms/step - loss: 0.0532 - accuracy: 0.9836\n",
      "Epoch 72/100\n",
      "46/46 [==============================] - 0s 1ms/step - loss: 0.0529 - accuracy: 0.9829\n",
      "Epoch 73/100\n",
      "46/46 [==============================] - 0s 1ms/step - loss: 0.0514 - accuracy: 0.9863\n",
      "Epoch 74/100\n",
      "46/46 [==============================] - 0s 1ms/step - loss: 0.0509 - accuracy: 0.9829\n",
      "Epoch 75/100\n",
      "46/46 [==============================] - 0s 1ms/step - loss: 0.0509 - accuracy: 0.9849\n",
      "Epoch 76/100\n",
      "46/46 [==============================] - 0s 1ms/step - loss: 0.0508 - accuracy: 0.9849\n",
      "Epoch 77/100\n",
      "46/46 [==============================] - 0s 1ms/step - loss: 0.0514 - accuracy: 0.9822\n",
      "Epoch 78/100\n",
      "46/46 [==============================] - 0s 1ms/step - loss: 0.0484 - accuracy: 0.9863\n",
      "Epoch 79/100\n",
      "46/46 [==============================] - 0s 1ms/step - loss: 0.0485 - accuracy: 0.9849\n",
      "Epoch 80/100\n",
      "46/46 [==============================] - 0s 1ms/step - loss: 0.0495 - accuracy: 0.9870\n",
      "Epoch 81/100\n",
      "46/46 [==============================] - 0s 1ms/step - loss: 0.0504 - accuracy: 0.9849\n",
      "Epoch 82/100\n",
      "46/46 [==============================] - 0s 1ms/step - loss: 0.0491 - accuracy: 0.9863\n",
      "Epoch 83/100\n"
     ]
    },
    {
     "name": "stdout",
     "output_type": "stream",
     "text": [
      "46/46 [==============================] - 0s 1ms/step - loss: 0.0469 - accuracy: 0.9890\n",
      "Epoch 84/100\n",
      "46/46 [==============================] - 0s 1ms/step - loss: 0.0478 - accuracy: 0.9856\n",
      "Epoch 85/100\n",
      "46/46 [==============================] - 0s 1ms/step - loss: 0.0475 - accuracy: 0.9884\n",
      "Epoch 86/100\n",
      "46/46 [==============================] - 0s 1ms/step - loss: 0.0470 - accuracy: 0.9863\n",
      "Epoch 87/100\n",
      "46/46 [==============================] - 0s 1ms/step - loss: 0.0476 - accuracy: 0.9836\n",
      "Epoch 88/100\n",
      "46/46 [==============================] - 0s 1ms/step - loss: 0.0458 - accuracy: 0.9870\n",
      "Epoch 89/100\n",
      "46/46 [==============================] - 0s 1ms/step - loss: 0.0455 - accuracy: 0.9856\n",
      "Epoch 90/100\n",
      "46/46 [==============================] - 0s 1ms/step - loss: 0.0450 - accuracy: 0.9870\n",
      "Epoch 91/100\n",
      "46/46 [==============================] - 0s 1ms/step - loss: 0.0447 - accuracy: 0.9870\n",
      "Epoch 92/100\n",
      "46/46 [==============================] - 0s 1ms/step - loss: 0.0441 - accuracy: 0.9877\n",
      "Epoch 93/100\n",
      "46/46 [==============================] - 0s 1ms/step - loss: 0.0446 - accuracy: 0.9877\n",
      "Epoch 94/100\n",
      "46/46 [==============================] - 0s 2ms/step - loss: 0.0448 - accuracy: 0.9870\n",
      "Epoch 95/100\n",
      "46/46 [==============================] - 0s 2ms/step - loss: 0.0452 - accuracy: 0.9870\n",
      "Epoch 96/100\n",
      "46/46 [==============================] - 0s 2ms/step - loss: 0.0450 - accuracy: 0.9863\n",
      "Epoch 97/100\n",
      "46/46 [==============================] - 0s 2ms/step - loss: 0.0449 - accuracy: 0.9863\n",
      "Epoch 98/100\n",
      "46/46 [==============================] - 0s 2ms/step - loss: 0.0432 - accuracy: 0.9842\n",
      "Epoch 99/100\n",
      "46/46 [==============================] - 0s 2ms/step - loss: 0.0429 - accuracy: 0.9870\n",
      "Epoch 100/100\n",
      "46/46 [==============================] - 0s 1ms/step - loss: 0.0429 - accuracy: 0.9877\n"
     ]
    },
    {
     "data": {
      "text/plain": [
       "<keras.callbacks.History at 0x131d0ead0>"
      ]
     },
     "execution_count": 4,
     "metadata": {},
     "output_type": "execute_result"
    }
   ],
   "source": [
    "# compile and train\n",
    "baseNet.compile(loss='binary_crossentropy', optimizer='adam', metrics=['accuracy'])\n",
    "baseNet.fit(X, encoded_Y, batch_size = 32, epochs = 100)"
   ]
  },
  {
   "cell_type": "code",
   "execution_count": 5,
   "id": "51cb721a",
   "metadata": {},
   "outputs": [
    {
     "name": "stdout",
     "output_type": "stream",
     "text": [
      "INFO:tensorflow:Assets written to: /Users/taylor/Desktop/DS340W/term_project/models/baseNet/assets\n"
     ]
    }
   ],
   "source": [
    "# save model\n",
    "baseNet.save('/Users/taylor/Desktop/DS340W/term_project/models/baseNet')"
   ]
  }
 ],
 "metadata": {
  "kernelspec": {
   "display_name": "Python 3 (ipykernel)",
   "language": "python",
   "name": "python3"
  },
  "language_info": {
   "codemirror_mode": {
    "name": "ipython",
    "version": 3
   },
   "file_extension": ".py",
   "mimetype": "text/x-python",
   "name": "python",
   "nbconvert_exporter": "python",
   "pygments_lexer": "ipython3",
   "version": "3.10.8"
  }
 },
 "nbformat": 4,
 "nbformat_minor": 5
}

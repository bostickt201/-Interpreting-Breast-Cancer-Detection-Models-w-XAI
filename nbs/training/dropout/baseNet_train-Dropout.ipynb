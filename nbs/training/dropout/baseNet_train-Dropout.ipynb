{
 "cells": [
  {
   "cell_type": "code",
   "execution_count": 1,
   "id": "dede2d09",
   "metadata": {
    "scrolled": true
   },
   "outputs": [
    {
     "name": "stderr",
     "output_type": "stream",
     "text": [
      "2022-12-04 01:28:11.343636: I tensorflow/core/platform/cpu_feature_guard.cc:193] This TensorFlow binary is optimized with oneAPI Deep Neural Network Library (oneDNN) to use the following CPU instructions in performance-critical operations:  AVX2 FMA\n",
      "To enable them in other operations, rebuild TensorFlow with the appropriate compiler flags.\n"
     ]
    }
   ],
   "source": [
    "# imports\n",
    "import pandas as pd\n",
    "from keras import models\n",
    "from sklearn.preprocessing import LabelEncoder\n",
    "from tensorflow.keras.models import Sequential\n",
    "from tensorflow.keras.layers import Dense\n",
    "\n",
    "from tensorflow.keras.constraints import MaxNorm\n",
    "from tensorflow.keras.layers import Dropout"
   ]
  },
  {
   "cell_type": "code",
   "execution_count": 2,
   "id": "1f889a66",
   "metadata": {},
   "outputs": [],
   "source": [
    "# load dataset\n",
    "df = pd.read_csv('/Users/taylor/Desktop/DS340W/term_project/data/wisconsin/wisconsin_train_balanced.csv')\n",
    "dataset = df.values\n",
    "\n",
    "# split into input (X) and output (Y) variables\n",
    "X = dataset[:,0:30].astype(float)\n",
    "Y = dataset[:,30]\n",
    "\n",
    "# encode class values as integers\n",
    "encoder = LabelEncoder()\n",
    "\n",
    "encoder.fit(Y)\n",
    "encoded_Y = encoder.transform(Y)"
   ]
  },
  {
   "cell_type": "code",
   "execution_count": 3,
   "id": "b6c1c245",
   "metadata": {},
   "outputs": [
    {
     "name": "stderr",
     "output_type": "stream",
     "text": [
      "2022-12-04 01:28:32.846925: I tensorflow/core/platform/cpu_feature_guard.cc:193] This TensorFlow binary is optimized with oneAPI Deep Neural Network Library (oneDNN) to use the following CPU instructions in performance-critical operations:  AVX2 FMA\n",
      "To enable them in other operations, rebuild TensorFlow with the appropriate compiler flags.\n"
     ]
    }
   ],
   "source": [
    "# create baseline model\n",
    "baseNetDrop = Sequential()\n",
    "baseNetDrop.add(Dense(units = 30, input_shape = X[0].shape, activation='relu', kernel_constraint=MaxNorm(3))) # input + hidden layers\n",
    "baseNetDrop.add(Dropout(0.2))\n",
    "baseNetDrop.add(Dense(units = 1, activation = 'sigmoid')) # output layer"
   ]
  },
  {
   "cell_type": "code",
   "execution_count": 4,
   "id": "ff7b301c",
   "metadata": {
    "scrolled": true
   },
   "outputs": [
    {
     "name": "stdout",
     "output_type": "stream",
     "text": [
      "Epoch 1/100\n",
      "46/46 [==============================] - 1s 2ms/step - loss: 0.6765 - accuracy: 0.5342\n",
      "Epoch 2/100\n",
      "46/46 [==============================] - 0s 2ms/step - loss: 0.5991 - accuracy: 0.6486\n",
      "Epoch 3/100\n",
      "46/46 [==============================] - 0s 3ms/step - loss: 0.5440 - accuracy: 0.7329\n",
      "Epoch 4/100\n",
      "46/46 [==============================] - 0s 3ms/step - loss: 0.4903 - accuracy: 0.7959\n",
      "Epoch 5/100\n",
      "46/46 [==============================] - 0s 2ms/step - loss: 0.4398 - accuracy: 0.8445\n",
      "Epoch 6/100\n",
      "46/46 [==============================] - 0s 2ms/step - loss: 0.3939 - accuracy: 0.8623\n",
      "Epoch 7/100\n",
      "46/46 [==============================] - 0s 2ms/step - loss: 0.3663 - accuracy: 0.8603\n",
      "Epoch 8/100\n",
      "46/46 [==============================] - 0s 2ms/step - loss: 0.3416 - accuracy: 0.8842\n",
      "Epoch 9/100\n",
      "46/46 [==============================] - 0s 2ms/step - loss: 0.3120 - accuracy: 0.8870\n",
      "Epoch 10/100\n",
      "46/46 [==============================] - 0s 2ms/step - loss: 0.2955 - accuracy: 0.8979\n",
      "Epoch 11/100\n",
      "46/46 [==============================] - 0s 2ms/step - loss: 0.2756 - accuracy: 0.9021\n",
      "Epoch 12/100\n",
      "46/46 [==============================] - 0s 2ms/step - loss: 0.2551 - accuracy: 0.9219\n",
      "Epoch 13/100\n",
      "46/46 [==============================] - 0s 2ms/step - loss: 0.2459 - accuracy: 0.9123\n",
      "Epoch 14/100\n",
      "46/46 [==============================] - 0s 3ms/step - loss: 0.2265 - accuracy: 0.9212\n",
      "Epoch 15/100\n",
      "46/46 [==============================] - 0s 2ms/step - loss: 0.2199 - accuracy: 0.9226\n",
      "Epoch 16/100\n",
      "46/46 [==============================] - 0s 2ms/step - loss: 0.2089 - accuracy: 0.9247\n",
      "Epoch 17/100\n",
      "46/46 [==============================] - 0s 2ms/step - loss: 0.1934 - accuracy: 0.9363\n",
      "Epoch 18/100\n",
      "46/46 [==============================] - 0s 2ms/step - loss: 0.1946 - accuracy: 0.9336\n",
      "Epoch 19/100\n",
      "46/46 [==============================] - 0s 2ms/step - loss: 0.1824 - accuracy: 0.9411\n",
      "Epoch 20/100\n",
      "46/46 [==============================] - 0s 2ms/step - loss: 0.1747 - accuracy: 0.9390\n",
      "Epoch 21/100\n",
      "46/46 [==============================] - 0s 2ms/step - loss: 0.1662 - accuracy: 0.9438\n",
      "Epoch 22/100\n",
      "46/46 [==============================] - 0s 2ms/step - loss: 0.1613 - accuracy: 0.9404\n",
      "Epoch 23/100\n",
      "46/46 [==============================] - 0s 2ms/step - loss: 0.1529 - accuracy: 0.9514\n",
      "Epoch 24/100\n",
      "46/46 [==============================] - 0s 2ms/step - loss: 0.1449 - accuracy: 0.9507\n",
      "Epoch 25/100\n",
      "46/46 [==============================] - 0s 2ms/step - loss: 0.1500 - accuracy: 0.9486\n",
      "Epoch 26/100\n",
      "46/46 [==============================] - 0s 2ms/step - loss: 0.1294 - accuracy: 0.9582\n",
      "Epoch 27/100\n",
      "46/46 [==============================] - 0s 2ms/step - loss: 0.1364 - accuracy: 0.9527\n",
      "Epoch 28/100\n",
      "46/46 [==============================] - 0s 2ms/step - loss: 0.1296 - accuracy: 0.9562\n",
      "Epoch 29/100\n",
      "46/46 [==============================] - 0s 2ms/step - loss: 0.1249 - accuracy: 0.9582\n",
      "Epoch 30/100\n",
      "46/46 [==============================] - 0s 2ms/step - loss: 0.1215 - accuracy: 0.9623\n",
      "Epoch 31/100\n",
      "46/46 [==============================] - 0s 2ms/step - loss: 0.1241 - accuracy: 0.9575\n",
      "Epoch 32/100\n",
      "46/46 [==============================] - 0s 2ms/step - loss: 0.1175 - accuracy: 0.9610\n",
      "Epoch 33/100\n",
      "46/46 [==============================] - 0s 2ms/step - loss: 0.1165 - accuracy: 0.9616\n",
      "Epoch 34/100\n",
      "46/46 [==============================] - 0s 2ms/step - loss: 0.1121 - accuracy: 0.9623\n",
      "Epoch 35/100\n",
      "46/46 [==============================] - 0s 2ms/step - loss: 0.1044 - accuracy: 0.9637\n",
      "Epoch 36/100\n",
      "46/46 [==============================] - 0s 2ms/step - loss: 0.1028 - accuracy: 0.9664\n",
      "Epoch 37/100\n",
      "46/46 [==============================] - 0s 2ms/step - loss: 0.1090 - accuracy: 0.9623\n",
      "Epoch 38/100\n",
      "46/46 [==============================] - 0s 2ms/step - loss: 0.1015 - accuracy: 0.9685\n",
      "Epoch 39/100\n",
      "46/46 [==============================] - 0s 2ms/step - loss: 0.0957 - accuracy: 0.9678\n",
      "Epoch 40/100\n",
      "46/46 [==============================] - 0s 2ms/step - loss: 0.0967 - accuracy: 0.9664\n",
      "Epoch 41/100\n",
      "46/46 [==============================] - 0s 2ms/step - loss: 0.0931 - accuracy: 0.9685\n",
      "Epoch 42/100\n",
      "46/46 [==============================] - 0s 2ms/step - loss: 0.0966 - accuracy: 0.9644\n",
      "Epoch 43/100\n",
      "46/46 [==============================] - 0s 2ms/step - loss: 0.0927 - accuracy: 0.9753\n",
      "Epoch 44/100\n",
      "46/46 [==============================] - 0s 2ms/step - loss: 0.0903 - accuracy: 0.9740\n",
      "Epoch 45/100\n",
      "46/46 [==============================] - 0s 2ms/step - loss: 0.0883 - accuracy: 0.9692\n",
      "Epoch 46/100\n",
      "46/46 [==============================] - 0s 2ms/step - loss: 0.0855 - accuracy: 0.9726\n",
      "Epoch 47/100\n",
      "46/46 [==============================] - 0s 2ms/step - loss: 0.0842 - accuracy: 0.9726\n",
      "Epoch 48/100\n",
      "46/46 [==============================] - 0s 2ms/step - loss: 0.0904 - accuracy: 0.9705\n",
      "Epoch 49/100\n",
      "46/46 [==============================] - 0s 2ms/step - loss: 0.0845 - accuracy: 0.9740\n",
      "Epoch 50/100\n",
      "46/46 [==============================] - 0s 2ms/step - loss: 0.0826 - accuracy: 0.9726\n",
      "Epoch 51/100\n",
      "46/46 [==============================] - 0s 2ms/step - loss: 0.0777 - accuracy: 0.9747\n",
      "Epoch 52/100\n",
      "46/46 [==============================] - 0s 2ms/step - loss: 0.0780 - accuracy: 0.9733\n",
      "Epoch 53/100\n",
      "46/46 [==============================] - 0s 2ms/step - loss: 0.0791 - accuracy: 0.9740\n",
      "Epoch 54/100\n",
      "46/46 [==============================] - 0s 2ms/step - loss: 0.0762 - accuracy: 0.9747\n",
      "Epoch 55/100\n",
      "46/46 [==============================] - 0s 2ms/step - loss: 0.0735 - accuracy: 0.9795\n",
      "Epoch 56/100\n",
      "46/46 [==============================] - 0s 2ms/step - loss: 0.0730 - accuracy: 0.9788\n",
      "Epoch 57/100\n",
      "46/46 [==============================] - 0s 2ms/step - loss: 0.0765 - accuracy: 0.9774\n",
      "Epoch 58/100\n",
      "46/46 [==============================] - 0s 2ms/step - loss: 0.0695 - accuracy: 0.9795\n",
      "Epoch 59/100\n",
      "46/46 [==============================] - 0s 2ms/step - loss: 0.0741 - accuracy: 0.9747\n",
      "Epoch 60/100\n",
      "46/46 [==============================] - 0s 2ms/step - loss: 0.0685 - accuracy: 0.9753\n",
      "Epoch 61/100\n",
      "46/46 [==============================] - 0s 2ms/step - loss: 0.0683 - accuracy: 0.9747\n",
      "Epoch 62/100\n",
      "46/46 [==============================] - 0s 2ms/step - loss: 0.0677 - accuracy: 0.9774\n",
      "Epoch 63/100\n",
      "46/46 [==============================] - 0s 2ms/step - loss: 0.0721 - accuracy: 0.9753\n",
      "Epoch 64/100\n",
      "46/46 [==============================] - 0s 2ms/step - loss: 0.0666 - accuracy: 0.9781\n",
      "Epoch 65/100\n",
      "46/46 [==============================] - 0s 2ms/step - loss: 0.0674 - accuracy: 0.9781\n",
      "Epoch 66/100\n",
      "46/46 [==============================] - 0s 2ms/step - loss: 0.0706 - accuracy: 0.9767\n",
      "Epoch 67/100\n",
      "46/46 [==============================] - 0s 2ms/step - loss: 0.0670 - accuracy: 0.9829\n",
      "Epoch 68/100\n",
      "46/46 [==============================] - 0s 2ms/step - loss: 0.0627 - accuracy: 0.9815\n",
      "Epoch 69/100\n",
      "46/46 [==============================] - 0s 2ms/step - loss: 0.0607 - accuracy: 0.9815\n",
      "Epoch 70/100\n",
      "46/46 [==============================] - 0s 2ms/step - loss: 0.0603 - accuracy: 0.9801\n",
      "Epoch 71/100\n",
      "46/46 [==============================] - 0s 2ms/step - loss: 0.0650 - accuracy: 0.9815\n",
      "Epoch 72/100\n",
      "46/46 [==============================] - 0s 2ms/step - loss: 0.0647 - accuracy: 0.9795\n",
      "Epoch 73/100\n",
      "46/46 [==============================] - 0s 2ms/step - loss: 0.0610 - accuracy: 0.9795\n",
      "Epoch 74/100\n",
      "46/46 [==============================] - 0s 2ms/step - loss: 0.0617 - accuracy: 0.9795\n",
      "Epoch 75/100\n",
      "46/46 [==============================] - 0s 2ms/step - loss: 0.0610 - accuracy: 0.9801\n",
      "Epoch 76/100\n",
      "46/46 [==============================] - 0s 2ms/step - loss: 0.0585 - accuracy: 0.9822\n",
      "Epoch 77/100\n",
      "46/46 [==============================] - 0s 2ms/step - loss: 0.0561 - accuracy: 0.9829\n",
      "Epoch 78/100\n",
      "46/46 [==============================] - 0s 2ms/step - loss: 0.0595 - accuracy: 0.9842\n",
      "Epoch 79/100\n",
      "46/46 [==============================] - 0s 2ms/step - loss: 0.0564 - accuracy: 0.9842\n",
      "Epoch 80/100\n",
      "46/46 [==============================] - 0s 2ms/step - loss: 0.0550 - accuracy: 0.9836\n",
      "Epoch 81/100\n",
      "46/46 [==============================] - 0s 2ms/step - loss: 0.0581 - accuracy: 0.9842\n",
      "Epoch 82/100\n",
      "46/46 [==============================] - 0s 2ms/step - loss: 0.0565 - accuracy: 0.9849\n",
      "Epoch 83/100\n"
     ]
    },
    {
     "name": "stdout",
     "output_type": "stream",
     "text": [
      "46/46 [==============================] - 0s 2ms/step - loss: 0.0551 - accuracy: 0.9836\n",
      "Epoch 84/100\n",
      "46/46 [==============================] - 0s 2ms/step - loss: 0.0573 - accuracy: 0.9815\n",
      "Epoch 85/100\n",
      "46/46 [==============================] - 0s 2ms/step - loss: 0.0498 - accuracy: 0.9856\n",
      "Epoch 86/100\n",
      "46/46 [==============================] - 0s 2ms/step - loss: 0.0521 - accuracy: 0.9822\n",
      "Epoch 87/100\n",
      "46/46 [==============================] - 0s 2ms/step - loss: 0.0555 - accuracy: 0.9801\n",
      "Epoch 88/100\n",
      "46/46 [==============================] - 0s 2ms/step - loss: 0.0549 - accuracy: 0.9822\n",
      "Epoch 89/100\n",
      "46/46 [==============================] - 0s 2ms/step - loss: 0.0526 - accuracy: 0.9829\n",
      "Epoch 90/100\n",
      "46/46 [==============================] - 0s 2ms/step - loss: 0.0554 - accuracy: 0.9829\n",
      "Epoch 91/100\n",
      "46/46 [==============================] - 0s 2ms/step - loss: 0.0523 - accuracy: 0.9842\n",
      "Epoch 92/100\n",
      "46/46 [==============================] - 0s 2ms/step - loss: 0.0477 - accuracy: 0.9849\n",
      "Epoch 93/100\n",
      "46/46 [==============================] - 0s 2ms/step - loss: 0.0503 - accuracy: 0.9829\n",
      "Epoch 94/100\n",
      "46/46 [==============================] - 0s 2ms/step - loss: 0.0518 - accuracy: 0.9842\n",
      "Epoch 95/100\n",
      "46/46 [==============================] - 0s 2ms/step - loss: 0.0478 - accuracy: 0.9863\n",
      "Epoch 96/100\n",
      "46/46 [==============================] - 0s 2ms/step - loss: 0.0535 - accuracy: 0.9801\n",
      "Epoch 97/100\n",
      "46/46 [==============================] - 0s 2ms/step - loss: 0.0479 - accuracy: 0.9863\n",
      "Epoch 98/100\n",
      "46/46 [==============================] - 0s 2ms/step - loss: 0.0491 - accuracy: 0.9863\n",
      "Epoch 99/100\n",
      "46/46 [==============================] - 0s 2ms/step - loss: 0.0497 - accuracy: 0.9822\n",
      "Epoch 100/100\n",
      "46/46 [==============================] - 0s 2ms/step - loss: 0.0466 - accuracy: 0.9842\n"
     ]
    },
    {
     "data": {
      "text/plain": [
       "<keras.callbacks.History at 0x7feb4220f820>"
      ]
     },
     "execution_count": 4,
     "metadata": {},
     "output_type": "execute_result"
    }
   ],
   "source": [
    "# compile and train\n",
    "baseNetDrop.compile(loss='binary_crossentropy', optimizer='adam', metrics=['accuracy'])\n",
    "baseNetDrop.fit(X, encoded_Y, batch_size = 32, epochs = 100)"
   ]
  },
  {
   "cell_type": "code",
   "execution_count": 5,
   "id": "51cb721a",
   "metadata": {},
   "outputs": [
    {
     "name": "stderr",
     "output_type": "stream",
     "text": [
      "WARNING:absl:Found untraced functions such as _update_step_xla while saving (showing 1 of 1). These functions will not be directly callable after loading.\n"
     ]
    },
    {
     "name": "stdout",
     "output_type": "stream",
     "text": [
      "INFO:tensorflow:Assets written to: /Users/taylor/Desktop/DS340W/term_project/models/baseNetDrop/assets\n"
     ]
    },
    {
     "name": "stderr",
     "output_type": "stream",
     "text": [
      "INFO:tensorflow:Assets written to: /Users/taylor/Desktop/DS340W/term_project/models/baseNetDrop/assets\n"
     ]
    }
   ],
   "source": [
    "# save model\n",
    "baseNetDrop.save('/Users/taylor/Desktop/DS340W/term_project/models/baseNetDrop')"
   ]
  }
 ],
 "metadata": {
  "kernelspec": {
   "display_name": "Python 3 (ipykernel)",
   "language": "python",
   "name": "python3"
  },
  "language_info": {
   "codemirror_mode": {
    "name": "ipython",
    "version": 3
   },
   "file_extension": ".py",
   "mimetype": "text/x-python",
   "name": "python",
   "nbconvert_exporter": "python",
   "pygments_lexer": "ipython3",
   "version": "3.8.1"
  }
 },
 "nbformat": 4,
 "nbformat_minor": 5
}

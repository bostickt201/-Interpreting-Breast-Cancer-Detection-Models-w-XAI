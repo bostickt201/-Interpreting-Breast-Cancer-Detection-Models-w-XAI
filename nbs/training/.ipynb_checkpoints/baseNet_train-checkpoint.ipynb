{
 "cells": [
  {
   "cell_type": "code",
   "execution_count": 1,
   "id": "dede2d09",
   "metadata": {
    "scrolled": true
   },
   "outputs": [
    {
     "name": "stderr",
     "output_type": "stream",
     "text": [
      "2022-12-04 01:27:35.246439: I tensorflow/core/platform/cpu_feature_guard.cc:193] This TensorFlow binary is optimized with oneAPI Deep Neural Network Library (oneDNN) to use the following CPU instructions in performance-critical operations:  AVX2 FMA\n",
      "To enable them in other operations, rebuild TensorFlow with the appropriate compiler flags.\n"
     ]
    }
   ],
   "source": [
    "# imports\n",
    "import pandas as pd\n",
    "from keras import models\n",
    "from sklearn.preprocessing import LabelEncoder\n",
    "from tensorflow.keras.models import Sequential\n",
    "from tensorflow.keras.layers import Dense"
   ]
  },
  {
   "cell_type": "code",
   "execution_count": 2,
   "id": "1f889a66",
   "metadata": {},
   "outputs": [],
   "source": [
    "# load dataset\n",
    "df = pd.read_csv('/Users/taylor/Desktop/DS340W/term_project/data/wisconsin/wisconsin_train_balanced.csv')\n",
    "dataset = df.values\n",
    "\n",
    "# split into input (X) and output (Y) variables\n",
    "X = dataset[:,0:30].astype(float)\n",
    "Y = dataset[:,30]\n",
    "\n",
    "# encode class values as integers\n",
    "encoder = LabelEncoder()\n",
    "\n",
    "encoder.fit(Y)\n",
    "encoded_Y = encoder.transform(Y)"
   ]
  },
  {
   "cell_type": "code",
   "execution_count": 3,
   "id": "b6c1c245",
   "metadata": {},
   "outputs": [
    {
     "name": "stderr",
     "output_type": "stream",
     "text": [
      "2022-12-04 01:27:42.532876: I tensorflow/core/platform/cpu_feature_guard.cc:193] This TensorFlow binary is optimized with oneAPI Deep Neural Network Library (oneDNN) to use the following CPU instructions in performance-critical operations:  AVX2 FMA\n",
      "To enable them in other operations, rebuild TensorFlow with the appropriate compiler flags.\n"
     ]
    }
   ],
   "source": [
    "# create baseline model\n",
    "baseNet = Sequential()\n",
    "baseNet.add(Dense(units = 30, input_shape = X[0].shape, activation='relu')) # input + hidden layers\n",
    "baseNet.add(Dense(units = 1, activation = 'sigmoid')) # output layer"
   ]
  },
  {
   "cell_type": "code",
   "execution_count": 4,
   "id": "ff7b301c",
   "metadata": {},
   "outputs": [
    {
     "name": "stdout",
     "output_type": "stream",
     "text": [
      "Epoch 1/100\n",
      "46/46 [==============================] - 1s 2ms/step - loss: 0.6440 - accuracy: 0.5473\n",
      "Epoch 2/100\n",
      "46/46 [==============================] - 0s 2ms/step - loss: 0.5720 - accuracy: 0.6753\n",
      "Epoch 3/100\n",
      "46/46 [==============================] - 0s 2ms/step - loss: 0.5117 - accuracy: 0.8007\n",
      "Epoch 4/100\n",
      "46/46 [==============================] - 0s 2ms/step - loss: 0.4537 - accuracy: 0.8527\n",
      "Epoch 5/100\n",
      "46/46 [==============================] - 0s 2ms/step - loss: 0.4022 - accuracy: 0.8733\n",
      "Epoch 6/100\n",
      "46/46 [==============================] - 0s 2ms/step - loss: 0.3596 - accuracy: 0.8918\n",
      "Epoch 7/100\n",
      "46/46 [==============================] - 0s 2ms/step - loss: 0.3244 - accuracy: 0.9123\n",
      "Epoch 8/100\n",
      "46/46 [==============================] - 0s 2ms/step - loss: 0.2931 - accuracy: 0.9130\n",
      "Epoch 9/100\n",
      "46/46 [==============================] - 0s 2ms/step - loss: 0.2670 - accuracy: 0.9192\n",
      "Epoch 10/100\n",
      "46/46 [==============================] - 0s 2ms/step - loss: 0.2450 - accuracy: 0.9247\n",
      "Epoch 11/100\n",
      "46/46 [==============================] - 0s 2ms/step - loss: 0.2249 - accuracy: 0.9281\n",
      "Epoch 12/100\n",
      "46/46 [==============================] - 0s 2ms/step - loss: 0.2078 - accuracy: 0.9301\n",
      "Epoch 13/100\n",
      "46/46 [==============================] - 0s 2ms/step - loss: 0.1931 - accuracy: 0.9363\n",
      "Epoch 14/100\n",
      "46/46 [==============================] - 0s 2ms/step - loss: 0.1817 - accuracy: 0.9370\n",
      "Epoch 15/100\n",
      "46/46 [==============================] - 0s 2ms/step - loss: 0.1704 - accuracy: 0.9445\n",
      "Epoch 16/100\n",
      "46/46 [==============================] - 0s 2ms/step - loss: 0.1605 - accuracy: 0.9479\n",
      "Epoch 17/100\n",
      "46/46 [==============================] - 0s 2ms/step - loss: 0.1513 - accuracy: 0.9534\n",
      "Epoch 18/100\n",
      "46/46 [==============================] - 0s 2ms/step - loss: 0.1462 - accuracy: 0.9507\n",
      "Epoch 19/100\n",
      "46/46 [==============================] - 0s 2ms/step - loss: 0.1376 - accuracy: 0.9562\n",
      "Epoch 20/100\n",
      "46/46 [==============================] - 0s 2ms/step - loss: 0.1334 - accuracy: 0.9562\n",
      "Epoch 21/100\n",
      "46/46 [==============================] - 0s 2ms/step - loss: 0.1269 - accuracy: 0.9596\n",
      "Epoch 22/100\n",
      "46/46 [==============================] - 0s 2ms/step - loss: 0.1219 - accuracy: 0.9616\n",
      "Epoch 23/100\n",
      "46/46 [==============================] - 0s 2ms/step - loss: 0.1170 - accuracy: 0.9651\n",
      "Epoch 24/100\n",
      "46/46 [==============================] - 0s 2ms/step - loss: 0.1162 - accuracy: 0.9623\n",
      "Epoch 25/100\n",
      "46/46 [==============================] - 0s 2ms/step - loss: 0.1090 - accuracy: 0.9685\n",
      "Epoch 26/100\n",
      "46/46 [==============================] - 0s 2ms/step - loss: 0.1059 - accuracy: 0.9658\n",
      "Epoch 27/100\n",
      "46/46 [==============================] - 0s 2ms/step - loss: 0.1059 - accuracy: 0.9664\n",
      "Epoch 28/100\n",
      "46/46 [==============================] - 0s 2ms/step - loss: 0.1001 - accuracy: 0.9678\n",
      "Epoch 29/100\n",
      "46/46 [==============================] - 0s 2ms/step - loss: 0.0966 - accuracy: 0.9692\n",
      "Epoch 30/100\n",
      "46/46 [==============================] - 0s 2ms/step - loss: 0.0946 - accuracy: 0.9719\n",
      "Epoch 31/100\n",
      "46/46 [==============================] - 0s 2ms/step - loss: 0.0951 - accuracy: 0.9712\n",
      "Epoch 32/100\n",
      "46/46 [==============================] - 0s 2ms/step - loss: 0.0910 - accuracy: 0.9733\n",
      "Epoch 33/100\n",
      "46/46 [==============================] - 0s 2ms/step - loss: 0.0878 - accuracy: 0.9753\n",
      "Epoch 34/100\n",
      "46/46 [==============================] - 0s 2ms/step - loss: 0.0860 - accuracy: 0.9753\n",
      "Epoch 35/100\n",
      "46/46 [==============================] - 0s 2ms/step - loss: 0.0836 - accuracy: 0.9747\n",
      "Epoch 36/100\n",
      "46/46 [==============================] - 0s 2ms/step - loss: 0.0815 - accuracy: 0.9767\n",
      "Epoch 37/100\n",
      "46/46 [==============================] - 0s 2ms/step - loss: 0.0802 - accuracy: 0.9774\n",
      "Epoch 38/100\n",
      "46/46 [==============================] - 0s 2ms/step - loss: 0.0793 - accuracy: 0.9781\n",
      "Epoch 39/100\n",
      "46/46 [==============================] - 0s 2ms/step - loss: 0.0768 - accuracy: 0.9808\n",
      "Epoch 40/100\n",
      "46/46 [==============================] - 0s 2ms/step - loss: 0.0770 - accuracy: 0.9795\n",
      "Epoch 41/100\n",
      "46/46 [==============================] - 0s 2ms/step - loss: 0.0742 - accuracy: 0.9781\n",
      "Epoch 42/100\n",
      "46/46 [==============================] - 0s 2ms/step - loss: 0.0726 - accuracy: 0.9808\n",
      "Epoch 43/100\n",
      "46/46 [==============================] - 0s 2ms/step - loss: 0.0722 - accuracy: 0.9795\n",
      "Epoch 44/100\n",
      "46/46 [==============================] - 0s 2ms/step - loss: 0.0707 - accuracy: 0.9808\n",
      "Epoch 45/100\n",
      "46/46 [==============================] - 0s 2ms/step - loss: 0.0695 - accuracy: 0.9822\n",
      "Epoch 46/100\n",
      "46/46 [==============================] - 0s 2ms/step - loss: 0.0697 - accuracy: 0.9808\n",
      "Epoch 47/100\n",
      "46/46 [==============================] - 0s 2ms/step - loss: 0.0678 - accuracy: 0.9822\n",
      "Epoch 48/100\n",
      "46/46 [==============================] - 0s 2ms/step - loss: 0.0677 - accuracy: 0.9815\n",
      "Epoch 49/100\n",
      "46/46 [==============================] - 0s 2ms/step - loss: 0.0662 - accuracy: 0.9815\n",
      "Epoch 50/100\n",
      "46/46 [==============================] - 0s 2ms/step - loss: 0.0650 - accuracy: 0.9836\n",
      "Epoch 51/100\n",
      "46/46 [==============================] - 0s 2ms/step - loss: 0.0643 - accuracy: 0.9822\n",
      "Epoch 52/100\n",
      "46/46 [==============================] - 0s 2ms/step - loss: 0.0623 - accuracy: 0.9836\n",
      "Epoch 53/100\n",
      "46/46 [==============================] - 0s 2ms/step - loss: 0.0633 - accuracy: 0.9836\n",
      "Epoch 54/100\n",
      "46/46 [==============================] - 0s 2ms/step - loss: 0.0624 - accuracy: 0.9836\n",
      "Epoch 55/100\n",
      "46/46 [==============================] - 0s 2ms/step - loss: 0.0604 - accuracy: 0.9849\n",
      "Epoch 56/100\n",
      "46/46 [==============================] - 0s 2ms/step - loss: 0.0616 - accuracy: 0.9808\n",
      "Epoch 57/100\n",
      "46/46 [==============================] - 0s 2ms/step - loss: 0.0589 - accuracy: 0.9842\n",
      "Epoch 58/100\n",
      "46/46 [==============================] - 0s 2ms/step - loss: 0.0588 - accuracy: 0.9815\n",
      "Epoch 59/100\n",
      "46/46 [==============================] - 0s 2ms/step - loss: 0.0572 - accuracy: 0.9849\n",
      "Epoch 60/100\n",
      "46/46 [==============================] - 0s 2ms/step - loss: 0.0561 - accuracy: 0.9870\n",
      "Epoch 61/100\n",
      "46/46 [==============================] - 0s 2ms/step - loss: 0.0576 - accuracy: 0.9842\n",
      "Epoch 62/100\n",
      "46/46 [==============================] - 0s 2ms/step - loss: 0.0561 - accuracy: 0.9849\n",
      "Epoch 63/100\n",
      "46/46 [==============================] - 0s 2ms/step - loss: 0.0548 - accuracy: 0.9856\n",
      "Epoch 64/100\n",
      "46/46 [==============================] - 0s 2ms/step - loss: 0.0554 - accuracy: 0.9829\n",
      "Epoch 65/100\n",
      "46/46 [==============================] - 0s 2ms/step - loss: 0.0544 - accuracy: 0.9849\n",
      "Epoch 66/100\n",
      "46/46 [==============================] - 0s 2ms/step - loss: 0.0542 - accuracy: 0.9856\n",
      "Epoch 67/100\n",
      "46/46 [==============================] - 0s 2ms/step - loss: 0.0533 - accuracy: 0.9863\n",
      "Epoch 68/100\n",
      "46/46 [==============================] - 0s 2ms/step - loss: 0.0523 - accuracy: 0.9849\n",
      "Epoch 69/100\n",
      "46/46 [==============================] - 0s 2ms/step - loss: 0.0521 - accuracy: 0.9856\n",
      "Epoch 70/100\n",
      "46/46 [==============================] - 0s 2ms/step - loss: 0.0517 - accuracy: 0.9856\n",
      "Epoch 71/100\n",
      "46/46 [==============================] - 0s 2ms/step - loss: 0.0511 - accuracy: 0.9870\n",
      "Epoch 72/100\n",
      "46/46 [==============================] - 0s 2ms/step - loss: 0.0503 - accuracy: 0.9863\n",
      "Epoch 73/100\n",
      "46/46 [==============================] - 0s 2ms/step - loss: 0.0515 - accuracy: 0.9849\n",
      "Epoch 74/100\n",
      "46/46 [==============================] - 0s 2ms/step - loss: 0.0503 - accuracy: 0.9849\n",
      "Epoch 75/100\n",
      "46/46 [==============================] - 0s 2ms/step - loss: 0.0491 - accuracy: 0.9856\n",
      "Epoch 76/100\n",
      "46/46 [==============================] - 0s 2ms/step - loss: 0.0493 - accuracy: 0.9870\n",
      "Epoch 77/100\n",
      "46/46 [==============================] - 0s 2ms/step - loss: 0.0486 - accuracy: 0.9856\n",
      "Epoch 78/100\n",
      "46/46 [==============================] - 0s 2ms/step - loss: 0.0481 - accuracy: 0.9870\n",
      "Epoch 79/100\n",
      "46/46 [==============================] - 0s 2ms/step - loss: 0.0487 - accuracy: 0.9863\n",
      "Epoch 80/100\n",
      "46/46 [==============================] - 0s 2ms/step - loss: 0.0473 - accuracy: 0.9870\n",
      "Epoch 81/100\n",
      "46/46 [==============================] - 0s 2ms/step - loss: 0.0473 - accuracy: 0.9863\n",
      "Epoch 82/100\n",
      "46/46 [==============================] - 0s 2ms/step - loss: 0.0489 - accuracy: 0.9849\n",
      "Epoch 83/100\n"
     ]
    },
    {
     "name": "stdout",
     "output_type": "stream",
     "text": [
      "46/46 [==============================] - 0s 2ms/step - loss: 0.0458 - accuracy: 0.9877\n",
      "Epoch 84/100\n",
      "46/46 [==============================] - 0s 2ms/step - loss: 0.0469 - accuracy: 0.9863\n",
      "Epoch 85/100\n",
      "46/46 [==============================] - 0s 2ms/step - loss: 0.0455 - accuracy: 0.9870\n",
      "Epoch 86/100\n",
      "46/46 [==============================] - 0s 2ms/step - loss: 0.0459 - accuracy: 0.9856\n",
      "Epoch 87/100\n",
      "46/46 [==============================] - 0s 2ms/step - loss: 0.0459 - accuracy: 0.9863\n",
      "Epoch 88/100\n",
      "46/46 [==============================] - 0s 2ms/step - loss: 0.0456 - accuracy: 0.9849\n",
      "Epoch 89/100\n",
      "46/46 [==============================] - 0s 2ms/step - loss: 0.0452 - accuracy: 0.9884\n",
      "Epoch 90/100\n",
      "46/46 [==============================] - 0s 2ms/step - loss: 0.0451 - accuracy: 0.9856\n",
      "Epoch 91/100\n",
      "46/46 [==============================] - 0s 2ms/step - loss: 0.0438 - accuracy: 0.9863\n",
      "Epoch 92/100\n",
      "46/46 [==============================] - 0s 2ms/step - loss: 0.0457 - accuracy: 0.9870\n",
      "Epoch 93/100\n",
      "46/46 [==============================] - 0s 2ms/step - loss: 0.0439 - accuracy: 0.9877\n",
      "Epoch 94/100\n",
      "46/46 [==============================] - 0s 2ms/step - loss: 0.0435 - accuracy: 0.9856\n",
      "Epoch 95/100\n",
      "46/46 [==============================] - 0s 2ms/step - loss: 0.0423 - accuracy: 0.9884\n",
      "Epoch 96/100\n",
      "46/46 [==============================] - 0s 2ms/step - loss: 0.0425 - accuracy: 0.9870\n",
      "Epoch 97/100\n",
      "46/46 [==============================] - 0s 2ms/step - loss: 0.0425 - accuracy: 0.9870\n",
      "Epoch 98/100\n",
      "46/46 [==============================] - 0s 2ms/step - loss: 0.0423 - accuracy: 0.9884\n",
      "Epoch 99/100\n",
      "46/46 [==============================] - 0s 2ms/step - loss: 0.0439 - accuracy: 0.9890\n",
      "Epoch 100/100\n",
      "46/46 [==============================] - 0s 2ms/step - loss: 0.0426 - accuracy: 0.9870\n"
     ]
    },
    {
     "data": {
      "text/plain": [
       "<keras.callbacks.History at 0x7fd89c62b640>"
      ]
     },
     "execution_count": 4,
     "metadata": {},
     "output_type": "execute_result"
    }
   ],
   "source": [
    "# compile and train\n",
    "baseNet.compile(loss='binary_crossentropy', optimizer='adam', metrics=['accuracy'])\n",
    "baseNet.fit(X, encoded_Y, batch_size = 32, epochs = 100)"
   ]
  },
  {
   "cell_type": "code",
   "execution_count": 5,
   "id": "51cb721a",
   "metadata": {},
   "outputs": [
    {
     "name": "stderr",
     "output_type": "stream",
     "text": [
      "WARNING:absl:Found untraced functions such as _update_step_xla while saving (showing 1 of 1). These functions will not be directly callable after loading.\n"
     ]
    },
    {
     "name": "stdout",
     "output_type": "stream",
     "text": [
      "INFO:tensorflow:Assets written to: /Users/taylor/Desktop/DS340W/term_project/models/baseNet/assets\n"
     ]
    },
    {
     "name": "stderr",
     "output_type": "stream",
     "text": [
      "INFO:tensorflow:Assets written to: /Users/taylor/Desktop/DS340W/term_project/models/baseNet/assets\n"
     ]
    }
   ],
   "source": [
    "# save model\n",
    "baseNet.save('/Users/taylor/Desktop/DS340W/term_project/models/baseNet')"
   ]
  }
 ],
 "metadata": {
  "kernelspec": {
   "display_name": "Python 3 (ipykernel)",
   "language": "python",
   "name": "python3"
  },
  "language_info": {
   "codemirror_mode": {
    "name": "ipython",
    "version": 3
   },
   "file_extension": ".py",
   "mimetype": "text/x-python",
   "name": "python",
   "nbconvert_exporter": "python",
   "pygments_lexer": "ipython3",
   "version": "3.8.1"
  }
 },
 "nbformat": 4,
 "nbformat_minor": 5
}

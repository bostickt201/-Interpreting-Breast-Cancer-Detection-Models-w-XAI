{
 "cells": [
  {
   "cell_type": "code",
   "execution_count": 1,
   "id": "a299cd9d",
   "metadata": {
    "scrolled": true
   },
   "outputs": [
    {
     "name": "stderr",
     "output_type": "stream",
     "text": [
      "2022-11-22 18:21:29.354092: I tensorflow/core/platform/cpu_feature_guard.cc:193] This TensorFlow binary is optimized with oneAPI Deep Neural Network Library (oneDNN) to use the following CPU instructions in performance-critical operations:  AVX2 FMA\n",
      "To enable them in other operations, rebuild TensorFlow with the appropriate compiler flags.\n"
     ]
    }
   ],
   "source": [
    "# imports\n",
    "import pandas as pd\n",
    "from keras import models\n",
    "from tensorflow.keras.models import Sequential\n",
    "from tensorflow.keras.layers import Dense\n",
    "from sklearn.preprocessing import LabelEncoder"
   ]
  },
  {
   "cell_type": "code",
   "execution_count": 2,
   "id": "ccc94c38",
   "metadata": {},
   "outputs": [],
   "source": [
    "# read in data\n",
    "test_df = pd.read_csv('/Users/taylor/Desktop/DS340W/term_project/data/wisconsin/wisconsin_test.csv')\n",
    "test_dataset = test_df.values\n",
    "\n",
    "test_X = test_dataset[:,0:30].astype(float)\n",
    "test_Y = test_dataset[:,30]\n",
    "\n",
    "# encode class values as integers\n",
    "encoder = LabelEncoder()\n",
    "\n",
    "encoder.fit(test_Y)\n",
    "encoded_test_Y = encoder.transform(test_Y)"
   ]
  },
  {
   "cell_type": "code",
   "execution_count": 3,
   "id": "153b8f4b",
   "metadata": {},
   "outputs": [
    {
     "name": "stderr",
     "output_type": "stream",
     "text": [
      "2022-11-22 18:21:35.409870: I tensorflow/core/platform/cpu_feature_guard.cc:193] This TensorFlow binary is optimized with oneAPI Deep Neural Network Library (oneDNN) to use the following CPU instructions in performance-critical operations:  AVX2 FMA\n",
      "To enable them in other operations, rebuild TensorFlow with the appropriate compiler flags.\n"
     ]
    }
   ],
   "source": [
    "# Reconstruct models\n",
    "baseNet = models.load_model('/Users/taylor/Desktop/DS340W/term_project/models/baseNet')\n",
    "smallNet = models.load_model('/Users/taylor/Desktop/DS340W/term_project/models/smallNet')\n",
    "bigNet5 = models.load_model('/Users/taylor/Desktop/DS340W/term_project/models/bigNet5')\n",
    "bigNet7 = models.load_model('/Users/taylor/Desktop/DS340W/term_project/models/bigNet7')\n",
    "bigNet10 = models.load_model('/Users/taylor/Desktop/DS340W/term_project/models/bigNet10')\n",
    "bigNet15 = models.load_model('/Users/taylor/Desktop/DS340W/term_project/models/bigNet15')"
   ]
  },
  {
   "cell_type": "code",
   "execution_count": 4,
   "id": "9a64999a",
   "metadata": {},
   "outputs": [
    {
     "name": "stdout",
     "output_type": "stream",
     "text": [
      "Base Model test loss: 0.04847599193453789\n",
      "Base Model test accuracy: 0.988304078578949\n"
     ]
    }
   ],
   "source": [
    "# evaluate base model\n",
    "score = baseNet.evaluate(test_X, encoded_test_Y, verbose = 0) \n",
    "print('Base Model test loss:', score[0]) \n",
    "print('Base Model test accuracy:', score[1])"
   ]
  },
  {
   "cell_type": "code",
   "execution_count": 5,
   "id": "c33d20a5",
   "metadata": {},
   "outputs": [
    {
     "name": "stdout",
     "output_type": "stream",
     "text": [
      "BigNet5 Model test loss: 0.11611512303352356\n",
      "BigNet5 test accuracy: 0.9649122953414917\n"
     ]
    }
   ],
   "source": [
    "# evaluate 5-layer model\n",
    "score = bigNet5.evaluate(test_X, encoded_test_Y, verbose = 0) \n",
    "\n",
    "print('BigNet5 Model test loss:', score[0]) \n",
    "print('BigNet5 test accuracy:', score[1])"
   ]
  },
  {
   "cell_type": "code",
   "execution_count": 6,
   "id": "01907698",
   "metadata": {},
   "outputs": [
    {
     "name": "stdout",
     "output_type": "stream",
     "text": [
      "BigNet7 Model test loss: 0.14744716882705688\n",
      "BigNet7 test accuracy: 0.9707602262496948\n"
     ]
    }
   ],
   "source": [
    "# evaluate 7-layer model\n",
    "score = bigNet7.evaluate(test_X, encoded_test_Y, verbose = 0) \n",
    "\n",
    "print('BigNet7 Model test loss:', score[0]) \n",
    "print('BigNet7 test accuracy:', score[1])"
   ]
  },
  {
   "cell_type": "code",
   "execution_count": 7,
   "id": "460e8a85",
   "metadata": {},
   "outputs": [
    {
     "name": "stdout",
     "output_type": "stream",
     "text": [
      "BigNet10 Model test loss: 0.25518128275871277\n",
      "BigNet10 test accuracy: 0.9590643048286438\n"
     ]
    }
   ],
   "source": [
    "# evaluate 10-layer model\n",
    "score = bigNet10.evaluate(test_X, encoded_test_Y, verbose = 0) \n",
    "\n",
    "print('BigNet10 Model test loss:', score[0]) \n",
    "print('BigNet10 test accuracy:', score[1])"
   ]
  },
  {
   "cell_type": "code",
   "execution_count": 8,
   "id": "7775b5c3",
   "metadata": {},
   "outputs": [
    {
     "name": "stdout",
     "output_type": "stream",
     "text": [
      "BigNet15 Model test loss: 0.14141316711902618\n",
      "BigNet15 test accuracy: 0.9824561476707458\n"
     ]
    }
   ],
   "source": [
    "# evaluate 15-layer model\n",
    "score = bigNet15.evaluate(test_X, encoded_test_Y, verbose = 0) \n",
    "\n",
    "print('BigNet15 Model test loss:', score[0]) \n",
    "print('BigNet15 test accuracy:', score[1])"
   ]
  }
 ],
 "metadata": {
  "kernelspec": {
   "display_name": "Python 3 (ipykernel)",
   "language": "python",
   "name": "python3"
  },
  "language_info": {
   "codemirror_mode": {
    "name": "ipython",
    "version": 3
   },
   "file_extension": ".py",
   "mimetype": "text/x-python",
   "name": "python",
   "nbconvert_exporter": "python",
   "pygments_lexer": "ipython3",
   "version": "3.8.1"
  }
 },
 "nbformat": 4,
 "nbformat_minor": 5
}

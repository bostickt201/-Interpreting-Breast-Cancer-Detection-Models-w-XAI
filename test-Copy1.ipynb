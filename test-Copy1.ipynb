{
 "cells": [
  {
   "cell_type": "code",
   "execution_count": 1,
   "id": "a299cd9d",
   "metadata": {
    "scrolled": true
   },
   "outputs": [
    {
     "name": "stderr",
     "output_type": "stream",
     "text": [
      "2022-11-22 18:14:40.719834: I tensorflow/core/platform/cpu_feature_guard.cc:193] This TensorFlow binary is optimized with oneAPI Deep Neural Network Library (oneDNN) to use the following CPU instructions in performance-critical operations:  AVX2 FMA\n",
      "To enable them in other operations, rebuild TensorFlow with the appropriate compiler flags.\n"
     ]
    }
   ],
   "source": [
    "# imports\n",
    "import pandas as pd\n",
    "import numpy as np\n",
    "from keras import models\n",
    "from tensorflow.keras.models import Sequential\n",
    "from tensorflow.keras.layers import Dense\n",
    "from sklearn.preprocessing import LabelEncoder\n",
    "\n",
    "#from sklearn.model_selection import train_test_split\n",
    "from alibi.explainers import ALE, plot_ale"
   ]
  },
  {
   "cell_type": "code",
   "execution_count": 24,
   "id": "b17bb0d5",
   "metadata": {},
   "outputs": [],
   "source": [
    "# read in train data\n",
    "train_df = pd.read_csv('/Users/taylor/Desktop/DS340W/term_project/data/wisconsin/wisconsin_train_balanced.csv')\n",
    "train_dataset = train_df.values\n",
    "\n",
    "# split into input (X) and output (Y) variables\n",
    "train_X = train_dataset[:,0:30].astype(float)\n",
    "train_Y = train_dataset[:,30]\n",
    "\n",
    "# encode class values as integers\n",
    "#encoder = LabelEncoder()\n",
    "\n",
    "#encoder.fit(train_Y)\n",
    "#train_encoded_Y = encoder.transform(train_Y)"
   ]
  },
  {
   "cell_type": "code",
   "execution_count": 2,
   "id": "ccc94c38",
   "metadata": {},
   "outputs": [],
   "source": [
    "# read in test data\n",
    "test_df = pd.read_csv('/Users/taylor/Desktop/DS340W/term_project/data/wisconsin/wisconsin_test.csv')\n",
    "test_dataset = test_df.values\n",
    "\n",
    "test_X = test_dataset[:,0:30].astype(float)\n",
    "test_Y = test_dataset[:,30]\n",
    "\n",
    "# encode class values as integers\n",
    "encoder = LabelEncoder()\n",
    "\n",
    "encoder.fit(test_Y)\n",
    "encoded_test_Y = encoder.transform(test_Y)"
   ]
  },
  {
   "cell_type": "code",
   "execution_count": 3,
   "id": "153b8f4b",
   "metadata": {},
   "outputs": [
    {
     "name": "stderr",
     "output_type": "stream",
     "text": [
      "2022-11-22 18:15:01.406242: I tensorflow/core/platform/cpu_feature_guard.cc:193] This TensorFlow binary is optimized with oneAPI Deep Neural Network Library (oneDNN) to use the following CPU instructions in performance-critical operations:  AVX2 FMA\n",
      "To enable them in other operations, rebuild TensorFlow with the appropriate compiler flags.\n"
     ]
    }
   ],
   "source": [
    "# Reconstruct models\n",
    "baseNet = models.load_model('/Users/taylor/Desktop/DS340W/term_project/models/baseNet')\n",
    "smallNet = models.load_model('/Users/taylor/Desktop/DS340W/term_project/models/smallNet')\n",
    "bigNet5 = models.load_model('/Users/taylor/Desktop/DS340W/term_project/models/bigNet5')\n",
    "bigNet7 = models.load_model('/Users/taylor/Desktop/DS340W/term_project/models/bigNet7')\n",
    "bigNet10 = models.load_model('/Users/taylor/Desktop/DS340W/term_project/models/bigNet10')\n",
    "bigNet15 = models.load_model('/Users/taylor/Desktop/DS340W/term_project/models/bigNet15')"
   ]
  },
  {
   "cell_type": "code",
   "execution_count": null,
   "id": "c60d56aa",
   "metadata": {},
   "outputs": [],
   "source": [
    "feature_names = ['radius_mean', 'texture_mean', 'perimeter_mean', 'area_mean',\n",
    "       'smoothness_mean', 'compactness_mean', 'concavity_mean',\n",
    "       'concave.points_mean', 'symmetry_mean', 'fractal_dimension_mean',\n",
    "       'radius_se', 'texture_se', 'perimeter_se', 'area_se',\n",
    "       'smoothness_se', 'compactness_se', 'concavity_se',\n",
    "       'concave.points_se', 'symmetry_se', 'fractal_dimension_se',\n",
    "       'radius_worst', 'texture_worst', 'perimeter_worst', 'area_worst',\n",
    "       'smoothness_worst', 'compactness_worst', 'concavity_worst',\n",
    "       'concave.points_worst', 'symmetry_worst',\n",
    "       'fractal_dimension_worst']"
   ]
  },
  {
   "cell_type": "code",
   "execution_count": 32,
   "id": "88f03181",
   "metadata": {
    "scrolled": true
   },
   "outputs": [
    {
     "name": "stdout",
     "output_type": "stream",
     "text": [
      "6/6 [==============================] - 0s 2ms/step\n"
     ]
    }
   ],
   "source": [
    "# initialize ALE object\n",
    "lr_ale = ALE(np.round(bigNet5.predict(test_X),3), feature_names=feature_names, target_names=['diagnosis'])\n",
    "#rf_ale = ALE(bigNet5.predict(test_X), feature_names=feature_names, target_names=['Value in $1000\\'s'])"
   ]
  },
  {
   "cell_type": "code",
   "execution_count": null,
   "id": "fa7ca2d7",
   "metadata": {},
   "outputs": [],
   "source": []
  },
  {
   "cell_type": "code",
   "execution_count": null,
   "id": "8fd373c4",
   "metadata": {},
   "outputs": [],
   "source": []
  },
  {
   "cell_type": "code",
   "execution_count": null,
   "id": "08a30501",
   "metadata": {},
   "outputs": [],
   "source": []
  },
  {
   "cell_type": "code",
   "execution_count": null,
   "id": "35cf40d9",
   "metadata": {},
   "outputs": [],
   "source": []
  }
 ],
 "metadata": {
  "kernelspec": {
   "display_name": "Python 3 (ipykernel)",
   "language": "python",
   "name": "python3"
  },
  "language_info": {
   "codemirror_mode": {
    "name": "ipython",
    "version": 3
   },
   "file_extension": ".py",
   "mimetype": "text/x-python",
   "name": "python",
   "nbconvert_exporter": "python",
   "pygments_lexer": "ipython3",
   "version": "3.8.1"
  }
 },
 "nbformat": 4,
 "nbformat_minor": 5
}

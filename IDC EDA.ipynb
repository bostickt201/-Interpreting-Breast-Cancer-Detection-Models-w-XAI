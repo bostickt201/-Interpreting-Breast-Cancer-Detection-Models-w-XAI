{
 "cells": [
  {
   "cell_type": "code",
   "execution_count": 21,
   "id": "f57e3b11",
   "metadata": {},
   "outputs": [],
   "source": [
    "# DATA PREP STEP\n",
    "# Source: https://www.kaggle.com/code/angieashraf/eda-breast-histopathology\n",
    "# Source: https://www.kaggle.com/code/allunia/breast-cancer/notebook"
   ]
  },
  {
   "cell_type": "code",
   "execution_count": 22,
   "id": "cd74abed",
   "metadata": {
    "scrolled": true
   },
   "outputs": [],
   "source": [
    "# imports\n",
    "import os , glob \n",
    "import numpy as np # linear algebra\n",
    "import pandas as pd # data processing, CSV file I/O (e.g. pd.read_csv)\n",
    "import matplotlib.pyplot as plt\n",
    "import seaborn as sns\n",
    "\n",
    "import skimage\n",
    "from skimage.io import imread , imread_collection \n",
    "\n",
    "from sklearn.metrics import accuracy_score , classification_report\n",
    "from sklearn.preprocessing import LabelEncoder,StandardScaler\n",
    "\n",
    "import keras\n",
    "from keras.applications import mobilenet\n",
    "from keras.layers import Dense ,Dropout\n",
    "from keras.models import Sequential"
   ]
  },
  {
   "cell_type": "code",
   "execution_count": 23,
   "id": "bfd2b3eb",
   "metadata": {},
   "outputs": [],
   "source": [
    "from os import listdir"
   ]
  },
  {
   "cell_type": "code",
   "execution_count": 24,
   "id": "23037684",
   "metadata": {},
   "outputs": [
    {
     "data": {
      "text/plain": [
       "'/Users/taylorbostick/Desktop/DS340W/term_project'"
      ]
     },
     "execution_count": 24,
     "metadata": {},
     "output_type": "execute_result"
    }
   ],
   "source": [
    "os.path.dirname(os.path.realpath(\"idc\")) # get path to idc images"
   ]
  },
  {
   "cell_type": "code",
   "execution_count": 25,
   "id": "d2edd1ee",
   "metadata": {},
   "outputs": [
    {
     "data": {
      "text/plain": [
       "281"
      ]
     },
     "execution_count": 25,
     "metadata": {},
     "output_type": "execute_result"
    }
   ],
   "source": [
    "files = listdir(\"/Users/taylorbostick/Desktop/DS340W/term_project/data/idc/archive/\")\n",
    "len(files)"
   ]
  },
  {
   "cell_type": "code",
   "execution_count": 26,
   "id": "43bea3fd",
   "metadata": {},
   "outputs": [
    {
     "data": {
      "text/plain": [
       "['9036',\n",
       " '10268',\n",
       " '10257',\n",
       " '8913',\n",
       " '13613',\n",
       " '8914',\n",
       " '15510',\n",
       " '10259',\n",
       " '16165',\n",
       " '10292']"
      ]
     },
     "execution_count": 26,
     "metadata": {},
     "output_type": "execute_result"
    }
   ],
   "source": [
    "files[0:10] # peek at first 10 folders"
   ]
  },
  {
   "cell_type": "code",
   "execution_count": 27,
   "id": "862b7512",
   "metadata": {},
   "outputs": [
    {
     "data": {
      "text/plain": [
       "279"
      ]
     },
     "execution_count": 27,
     "metadata": {},
     "output_type": "execute_result"
    }
   ],
   "source": [
    "# get patient ids\n",
    "files = listdir(\"/Users/taylorbostick/Desktop/DS340W/term_project/data/idc/archive/IDC_regular_ps50_idx5/\")\n",
    "len(files)\n",
    "\n",
    "# NOTE: Each patient has an individual subfolder that contains image patches"
   ]
  },
  {
   "cell_type": "code",
   "execution_count": 28,
   "id": "32a0467c",
   "metadata": {},
   "outputs": [
    {
     "data": {
      "text/plain": [
       "279"
      ]
     },
     "execution_count": 28,
     "metadata": {},
     "output_type": "execute_result"
    }
   ],
   "source": [
    "# get total count of patients\n",
    "base_path = \"/Users/taylorbostick/Desktop/DS340W/term_project/data/idc/archive/IDC_regular_ps50_idx5/\"\n",
    "len(listdir(base_path))\n",
    "\n",
    "# NOTE: Total patient population = 279\n",
    "# This is small for deep learning,so we will need to be conscious of overfitting on this dataset"
   ]
  },
  {
   "cell_type": "code",
   "execution_count": 29,
   "id": "10c72706",
   "metadata": {},
   "outputs": [
    {
     "data": {
      "text/plain": [
       "277524"
      ]
     },
     "execution_count": 29,
     "metadata": {},
     "output_type": "execute_result"
    }
   ],
   "source": [
    "# get total count of idc image patches\n",
    "image_count = 0\n",
    "\n",
    "for i in range(len(listdir(base_path))):\n",
    "    patient_id = listdir(base_path)[i]\n",
    "               \n",
    "    for j in [0, 1]:\n",
    "        patient_path = base_path + patient_id \n",
    "        class_path = patient_path + \"/\" + str(j) + \"/\"\n",
    "        subfiles = listdir(class_path)\n",
    "        image_count += len(subfiles)\n",
    "        \n",
    "image_count"
   ]
  },
  {
   "cell_type": "code",
   "execution_count": 30,
   "id": "a8aea2ab",
   "metadata": {},
   "outputs": [],
   "source": [
    "# store image path, patient id, and target for each patient\n",
    "df = pd.DataFrame(index = np.arange(0, image_count), columns = [\"patient_id\", \"path\", \"diagnosis\"])\n",
    "\n",
    "n = 0\n",
    "for i in range(len(listdir(base_path))):\n",
    "    patient_id = listdir(base_path)[i]\n",
    "    patient_path = base_path + patient_id \n",
    "    for j in [0,1]:\n",
    "        class_path = patient_path + \"/\" + str(j) + \"/\"\n",
    "        subfiles = listdir(class_path)\n",
    "        for k in range(len(subfiles)):\n",
    "            image_path = subfiles[k]\n",
    "            df.iloc[n][\"path\"] = class_path + image_path\n",
    "            df.iloc[n][\"diagnosis\"] = j\n",
    "            df.iloc[n][\"patient_id\"] = patient_id\n",
    "            n += 1  \n"
   ]
  },
  {
   "cell_type": "code",
   "execution_count": 31,
   "id": "a59d909e",
   "metadata": {},
   "outputs": [
    {
     "data": {
      "text/html": [
       "<div>\n",
       "<style scoped>\n",
       "    .dataframe tbody tr th:only-of-type {\n",
       "        vertical-align: middle;\n",
       "    }\n",
       "\n",
       "    .dataframe tbody tr th {\n",
       "        vertical-align: top;\n",
       "    }\n",
       "\n",
       "    .dataframe thead th {\n",
       "        text-align: right;\n",
       "    }\n",
       "</style>\n",
       "<table border=\"1\" class=\"dataframe\">\n",
       "  <thead>\n",
       "    <tr style=\"text-align: right;\">\n",
       "      <th></th>\n",
       "      <th>patient_id</th>\n",
       "      <th>path</th>\n",
       "      <th>diagnosis</th>\n",
       "    </tr>\n",
       "  </thead>\n",
       "  <tbody>\n",
       "    <tr>\n",
       "      <th>0</th>\n",
       "      <td>9036</td>\n",
       "      <td>/Users/taylorbostick/Desktop/DS340W/term_proje...</td>\n",
       "      <td>0</td>\n",
       "    </tr>\n",
       "    <tr>\n",
       "      <th>1</th>\n",
       "      <td>9036</td>\n",
       "      <td>/Users/taylorbostick/Desktop/DS340W/term_proje...</td>\n",
       "      <td>0</td>\n",
       "    </tr>\n",
       "    <tr>\n",
       "      <th>2</th>\n",
       "      <td>9036</td>\n",
       "      <td>/Users/taylorbostick/Desktop/DS340W/term_proje...</td>\n",
       "      <td>0</td>\n",
       "    </tr>\n",
       "    <tr>\n",
       "      <th>3</th>\n",
       "      <td>9036</td>\n",
       "      <td>/Users/taylorbostick/Desktop/DS340W/term_proje...</td>\n",
       "      <td>0</td>\n",
       "    </tr>\n",
       "    <tr>\n",
       "      <th>4</th>\n",
       "      <td>9036</td>\n",
       "      <td>/Users/taylorbostick/Desktop/DS340W/term_proje...</td>\n",
       "      <td>0</td>\n",
       "    </tr>\n",
       "  </tbody>\n",
       "</table>\n",
       "</div>"
      ],
      "text/plain": [
       "  patient_id                                               path diagnosis\n",
       "0       9036  /Users/taylorbostick/Desktop/DS340W/term_proje...         0\n",
       "1       9036  /Users/taylorbostick/Desktop/DS340W/term_proje...         0\n",
       "2       9036  /Users/taylorbostick/Desktop/DS340W/term_proje...         0\n",
       "3       9036  /Users/taylorbostick/Desktop/DS340W/term_proje...         0\n",
       "4       9036  /Users/taylorbostick/Desktop/DS340W/term_proje...         0"
      ]
     },
     "execution_count": 31,
     "metadata": {},
     "output_type": "execute_result"
    }
   ],
   "source": [
    "df.head()"
   ]
  },
  {
   "cell_type": "code",
   "execution_count": 32,
   "id": "3a9a267e",
   "metadata": {},
   "outputs": [],
   "source": [
    "# EDA STEP"
   ]
  },
  {
   "cell_type": "code",
   "execution_count": 33,
   "id": "ee4b6982",
   "metadata": {},
   "outputs": [
    {
     "data": {
      "text/plain": [
       "0    198738\n",
       "1     78786\n",
       "Name: diagnosis, dtype: int64"
      ]
     },
     "execution_count": 33,
     "metadata": {},
     "output_type": "execute_result"
    }
   ],
   "source": [
    "# get class counts of diagnosis\n",
    "df['diagnosis'].value_counts()\n",
    "\n",
    "# Over half of the data is classified as noncancerous\n",
    "# This is a potential class imbalance problem\n",
    "# Possible solutions include resampling specific cases and merging near identical cases"
   ]
  },
  {
   "cell_type": "code",
   "execution_count": 34,
   "id": "1f1c3e43",
   "metadata": {},
   "outputs": [
    {
     "name": "stderr",
     "output_type": "stream",
     "text": [
      "/opt/anaconda3/lib/python3.9/site-packages/seaborn/_decorators.py:36: FutureWarning: Pass the following variable as a keyword arg: x. From version 0.12, the only valid positional argument will be `data`, and passing other arguments without an explicit keyword will result in an error or misinterpretation.\n",
      "  warnings.warn(\n"
     ]
    },
    {
     "data": {
      "image/png": "[encoded data removed]",
      "text/plain": [
       "<Figure size 432x288 with 1 Axes>"
      ]
     },
     "metadata": {
      "needs_background": "light"
     },
     "output_type": "display_data"
    }
   ],
   "source": [
    "# plot class distribution for diagnosis\n",
    "class_count = df['diagnosis'].value_counts()\n",
    "\n",
    "sns.countplot(df['diagnosis'])\n",
    "plt.title('Noncancerous vs Cancerous')\n",
    "\n",
    "plt.show()"
   ]
  },
  {
   "cell_type": "code",
   "execution_count": 35,
   "id": "0879311b",
   "metadata": {},
   "outputs": [
    {
     "name": "stdout",
     "output_type": "stream",
     "text": [
      "There are 119952 more malignant cases than there are benign\n"
     ]
    }
   ],
   "source": [
    "print('There are' + ' ' + str(class_count[0]-class_count[1]) + ' ' + 'more malignant cases than there are benign')"
   ]
  },
  {
   "cell_type": "code",
   "execution_count": 38,
   "id": "f90beee5",
   "metadata": {},
   "outputs": [],
   "source": [
    "df.to_csv(r\"/Users/taylorbostick/Desktop/DS340W/term_project/data/image_path_and_diagnosis_by_patient.csv\", index = False)"
   ]
  },
  {
   "cell_type": "code",
   "execution_count": 39,
   "id": "26ab12d2",
   "metadata": {},
   "outputs": [],
   "source": [
    "# To do next:\n",
    "    # address class imbalance"
   ]
  }
 ],
 "metadata": {
  "kernelspec": {
   "display_name": "Python 3 (ipykernel)",
   "language": "python",
   "name": "python3"
  },
  "language_info": {
   "codemirror_mode": {
    "name": "ipython",
    "version": 3
   },
   "file_extension": ".py",
   "mimetype": "text/x-python",
   "name": "python",
   "nbconvert_exporter": "python",
   "pygments_lexer": "ipython3",
   "version": "3.9.7"
  }
 },
 "nbformat": 4,
 "nbformat_minor": 5
}

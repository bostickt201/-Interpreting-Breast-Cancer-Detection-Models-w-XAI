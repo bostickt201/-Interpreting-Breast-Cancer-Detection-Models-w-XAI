{
 "cells": [
  {
   "cell_type": "code",
   "execution_count": 9,
   "id": "04a5070d",
   "metadata": {},
   "outputs": [],
   "source": [
    "# imports\n",
    "import pandas as pd\n",
    "#import joblib\n",
    "from keras import models\n",
    "#from tensorflow.keras.models import Sequential\n",
    "#from tensorflow.keras.layers import Dense\n",
    "from sklearn.preprocessing import LabelEncoder\n",
    "\n",
    "from interpret import show\n",
    "from interpret.blackbox import MorrisSensitivity\n",
    "\n",
    "from explainerdashboard import ClassifierExplainer, ExplainerDashboard"
   ]
  },
  {
   "cell_type": "code",
   "execution_count": 2,
   "id": "b45792f9",
   "metadata": {},
   "outputs": [],
   "source": [
    "# read in test set\n",
    "test_df = pd.read_csv('/Users/taylor/Desktop/DS340W/term_project/data/wisconsin/wisconsin_test.csv')\n",
    "test_dataset = test_df.values\n",
    "\n",
    "test_X = test_dataset[:,0:30].astype(float)\n",
    "test_Y = test_dataset[:,30]\n",
    "\n",
    "# encode class values as integers\n",
    "encoder = LabelEncoder()\n",
    "\n",
    "encoder.fit(test_Y)\n",
    "encoded_test_Y = encoder.transform(test_Y)"
   ]
  },
  {
   "cell_type": "code",
   "execution_count": 3,
   "id": "711619c3",
   "metadata": {},
   "outputs": [
    {
     "name": "stderr",
     "output_type": "stream",
     "text": [
      "2022-11-25 19:34:53.163317: I tensorflow/core/platform/cpu_feature_guard.cc:193] This TensorFlow binary is optimized with oneAPI Deep Neural Network Library (oneDNN) to use the following CPU instructions in performance-critical operations:  AVX2 FMA\n",
      "To enable them in other operations, rebuild TensorFlow with the appropriate compiler flags.\n"
     ]
    }
   ],
   "source": [
    "# Reconstruct models\n",
    "baseNet = models.load_model('/Users/taylor/Desktop/DS340W/term_project/models/baseNet')\n",
    "smallNet = models.load_model('/Users/taylor/Desktop/DS340W/term_project/models/smallNet')\n",
    "bigNet5 = models.load_model('/Users/taylor/Desktop/DS340W/term_project/models/bigNet5')\n",
    "bigNet7 = models.load_model('/Users/taylor/Desktop/DS340W/term_project/models/bigNet7')\n",
    "bigNet10 = models.load_model('/Users/taylor/Desktop/DS340W/term_project/models/bigNet10')\n",
    "bigNet15 = models.load_model('/Users/taylor/Desktop/DS340W/term_project/models/bigNet15')"
   ]
  },
  {
   "cell_type": "code",
   "execution_count": null,
   "id": "2ebed18e",
   "metadata": {},
   "outputs": [],
   "source": [
    "sensitivity = MorrisSensitivity(predict_fn=blackbox_model.predict_proba, data=X_train)\n",
    "sensitivity_global = sensitivity.explain_global(name=\"Global Sensitivity\")\n",
    "\n",
    "show(sensitivity_global)"
   ]
  },
  {
   "cell_type": "code",
   "execution_count": 17,
   "id": "2e01dc58",
   "metadata": {
    "scrolled": false
   },
   "outputs": [
    {
     "name": "stdout",
     "output_type": "stream",
     "text": [
      "1/1 [==============================] - 0s 32ms/step\n"
     ]
    }
   ],
   "source": [
    "msa = MorrisSensitivity(predict_fn = baseNet.predict, data = test_df.iloc[:,0:30])"
   ]
  },
  {
   "cell_type": "code",
   "execution_count": 18,
   "id": "2facafca",
   "metadata": {},
   "outputs": [
    {
     "name": "stdout",
     "output_type": "stream",
     "text": [
      "969/969 [==============================] - 1s 1ms/step\n"
     ]
    },
    {
     "ename": "IndexError",
     "evalue": "index 1 is out of bounds for axis 1 with size 1",
     "output_type": "error",
     "traceback": [
      "\u001b[0;31m---------------------------------------------------------------------------\u001b[0m",
      "\u001b[0;31mIndexError\u001b[0m                                Traceback (most recent call last)",
      "Cell \u001b[0;32mIn [18], line 1\u001b[0m\n\u001b[0;32m----> 1\u001b[0m msa_global \u001b[38;5;241m=\u001b[39m \u001b[43mmsa\u001b[49m\u001b[38;5;241;43m.\u001b[39;49m\u001b[43mexplain_global\u001b[49m\u001b[43m(\u001b[49m\u001b[43mname\u001b[49m\u001b[43m \u001b[49m\u001b[38;5;241;43m=\u001b[39;49m\u001b[43m \u001b[49m\u001b[38;5;124;43m\"\u001b[39;49m\u001b[38;5;124;43mGlobal Sensitivity\u001b[39;49m\u001b[38;5;124;43m\"\u001b[39;49m\u001b[43m)\u001b[49m\n",
      "File \u001b[0;32m/Library/Frameworks/Python.framework/Versions/3.8/lib/python3.8/site-packages/interpret/blackbox/sensitivity.py:94\u001b[0m, in \u001b[0;36mMorrisSensitivity.explain_global\u001b[0;34m(self, name)\u001b[0m\n\u001b[1;32m     91\u001b[0m samples \u001b[38;5;241m=\u001b[39m \u001b[38;5;28mself\u001b[39m\u001b[38;5;241m.\u001b[39msampler\u001b[38;5;241m.\u001b[39msample()\n\u001b[1;32m     92\u001b[0m problem \u001b[38;5;241m=\u001b[39m \u001b[38;5;28mself\u001b[39m\u001b[38;5;241m.\u001b[39msampler\u001b[38;5;241m.\u001b[39mgen_problem_from_data(\u001b[38;5;28mself\u001b[39m\u001b[38;5;241m.\u001b[39mdata, \u001b[38;5;28mself\u001b[39m\u001b[38;5;241m.\u001b[39mfeature_names)\n\u001b[1;32m     93\u001b[0m analysis \u001b[38;5;241m=\u001b[39m morris\u001b[38;5;241m.\u001b[39manalyze(\n\u001b[0;32m---> 94\u001b[0m     problem, samples, \u001b[38;5;28;43mself\u001b[39;49m\u001b[38;5;241;43m.\u001b[39;49m\u001b[43mpredict_fn\u001b[49m\u001b[43m(\u001b[49m\u001b[43msamples\u001b[49m\u001b[43m)\u001b[49m\u001b[38;5;241m.\u001b[39mastype(\u001b[38;5;28mfloat\u001b[39m)\n\u001b[1;32m     95\u001b[0m )\n\u001b[1;32m     97\u001b[0m mu \u001b[38;5;241m=\u001b[39m analysis[\u001b[38;5;124m\"\u001b[39m\u001b[38;5;124mmu\u001b[39m\u001b[38;5;124m\"\u001b[39m]\n\u001b[1;32m     98\u001b[0m mu_star \u001b[38;5;241m=\u001b[39m analysis[\u001b[38;5;124m\"\u001b[39m\u001b[38;5;124mmu_star\u001b[39m\u001b[38;5;124m\"\u001b[39m]\n",
      "File \u001b[0;32m/Library/Frameworks/Python.framework/Versions/3.8/lib/python3.8/site-packages/interpret/utils/all.py:241\u001b[0m, in \u001b[0;36munify_predict_fn.<locals>.<lambda>\u001b[0;34m(x)\u001b[0m\n\u001b[1;32m    239\u001b[0m predictions \u001b[38;5;241m=\u001b[39m predict_fn(X[:\u001b[38;5;241m1\u001b[39m])\n\u001b[1;32m    240\u001b[0m \u001b[38;5;28;01mif\u001b[39;00m predictions\u001b[38;5;241m.\u001b[39mndim \u001b[38;5;241m==\u001b[39m \u001b[38;5;241m2\u001b[39m:\n\u001b[0;32m--> 241\u001b[0m     new_predict_fn \u001b[38;5;241m=\u001b[39m \u001b[38;5;28;01mlambda\u001b[39;00m x: \u001b[43mpredict_fn\u001b[49m\u001b[43m(\u001b[49m\u001b[43mx\u001b[49m\u001b[43m)\u001b[49m\u001b[43m[\u001b[49m\u001b[43m:\u001b[49m\u001b[43m,\u001b[49m\u001b[43m \u001b[49m\u001b[38;5;241;43m1\u001b[39;49m\u001b[43m]\u001b[49m  \u001b[38;5;66;03m# noqa: E731\u001b[39;00m\n\u001b[1;32m    242\u001b[0m     \u001b[38;5;28;01mreturn\u001b[39;00m new_predict_fn\n\u001b[1;32m    243\u001b[0m \u001b[38;5;28;01melse\u001b[39;00m:\n",
      "\u001b[0;31mIndexError\u001b[0m: index 1 is out of bounds for axis 1 with size 1"
     ]
    }
   ],
   "source": [
    "msa_global = msa.explain_global(name = \"Global Sensitivity\")"
   ]
  },
  {
   "cell_type": "code",
   "execution_count": 15,
   "id": "5b6aa78d",
   "metadata": {},
   "outputs": [
    {
     "ename": "NameError",
     "evalue": "name 'msa_global' is not defined",
     "output_type": "error",
     "traceback": [
      "\u001b[0;31m---------------------------------------------------------------------------\u001b[0m",
      "\u001b[0;31mNameError\u001b[0m                                 Traceback (most recent call last)",
      "Cell \u001b[0;32mIn [15], line 1\u001b[0m\n\u001b[0;32m----> 1\u001b[0m show(\u001b[43mmsa_global\u001b[49m)\n",
      "\u001b[0;31mNameError\u001b[0m: name 'msa_global' is not defined"
     ]
    }
   ],
   "source": [
    "show(msa_global)"
   ]
  },
  {
   "cell_type": "code",
   "execution_count": 19,
   "id": "477e7b9a",
   "metadata": {},
   "outputs": [],
   "source": [
    "from interpret.glassbox import ClassificationTree\n",
    "from interpret import show"
   ]
  },
  {
   "cell_type": "code",
   "execution_count": 22,
   "id": "07101a25",
   "metadata": {},
   "outputs": [],
   "source": [
    "from sklearn.datasets import load_breast_cancer\n",
    "from sklearn.model_selection import train_test_split\n",
    "\n",
    "from sklearn.ensemble import RandomForestClassifier\n",
    "from sklearn.decomposition import PCA\n",
    "from sklearn.pipeline import Pipeline\n",
    "\n",
    "from interpret import show\n",
    "from interpret.blackbox import MorrisSensitivity\n",
    "\n",
    "seed = 1\n",
    "X, y = load_breast_cancer(return_X_y=True, as_frame=True)\n",
    "X_train, X_test, y_train, y_test = train_test_split(X, y, test_size=0.20, random_state=seed)"
   ]
  },
  {
   "cell_type": "code",
   "execution_count": 28,
   "id": "ab0ff3da",
   "metadata": {},
   "outputs": [
    {
     "data": {
      "text/plain": [
       "408    0\n",
       "4      0\n",
       "307    1\n",
       "386    1\n",
       "404    1\n",
       "      ..\n",
       "129    0\n",
       "144    1\n",
       "72     0\n",
       "235    1\n",
       "37     1\n",
       "Name: target, Length: 455, dtype: int64"
      ]
     },
     "execution_count": 28,
     "metadata": {},
     "output_type": "execute_result"
    }
   ],
   "source": [
    "y_train"
   ]
  },
  {
   "cell_type": "code",
   "execution_count": 29,
   "id": "1186c5a0",
   "metadata": {},
   "outputs": [],
   "source": [
    "X = test_df.iloc[:,0:30]"
   ]
  },
  {
   "cell_type": "code",
   "execution_count": 33,
   "id": "45704d78",
   "metadata": {},
   "outputs": [
    {
     "name": "stdout",
     "output_type": "stream",
     "text": [
      "1/1 [==============================] - 0s 89ms/step\n",
      "969/969 [==============================] - 1s 1ms/step\n"
     ]
    },
    {
     "ename": "IndexError",
     "evalue": "index 1 is out of bounds for axis 1 with size 1",
     "output_type": "error",
     "traceback": [
      "\u001b[0;31m---------------------------------------------------------------------------\u001b[0m",
      "\u001b[0;31mIndexError\u001b[0m                                Traceback (most recent call last)",
      "Cell \u001b[0;32mIn [33], line 2\u001b[0m\n\u001b[1;32m      1\u001b[0m msa \u001b[38;5;241m=\u001b[39m MorrisSensitivity(predict_fn\u001b[38;5;241m=\u001b[39msmallNet\u001b[38;5;241m.\u001b[39mpredict, data\u001b[38;5;241m=\u001b[39mX)\n\u001b[0;32m----> 2\u001b[0m msa_global \u001b[38;5;241m=\u001b[39m \u001b[43mmsa\u001b[49m\u001b[38;5;241;43m.\u001b[39;49m\u001b[43mexplain_global\u001b[49m\u001b[43m(\u001b[49m\u001b[43m)\u001b[49m\n\u001b[1;32m      4\u001b[0m show(msa_global)\n",
      "File \u001b[0;32m/Library/Frameworks/Python.framework/Versions/3.8/lib/python3.8/site-packages/interpret/blackbox/sensitivity.py:94\u001b[0m, in \u001b[0;36mMorrisSensitivity.explain_global\u001b[0;34m(self, name)\u001b[0m\n\u001b[1;32m     91\u001b[0m samples \u001b[38;5;241m=\u001b[39m \u001b[38;5;28mself\u001b[39m\u001b[38;5;241m.\u001b[39msampler\u001b[38;5;241m.\u001b[39msample()\n\u001b[1;32m     92\u001b[0m problem \u001b[38;5;241m=\u001b[39m \u001b[38;5;28mself\u001b[39m\u001b[38;5;241m.\u001b[39msampler\u001b[38;5;241m.\u001b[39mgen_problem_from_data(\u001b[38;5;28mself\u001b[39m\u001b[38;5;241m.\u001b[39mdata, \u001b[38;5;28mself\u001b[39m\u001b[38;5;241m.\u001b[39mfeature_names)\n\u001b[1;32m     93\u001b[0m analysis \u001b[38;5;241m=\u001b[39m morris\u001b[38;5;241m.\u001b[39manalyze(\n\u001b[0;32m---> 94\u001b[0m     problem, samples, \u001b[38;5;28;43mself\u001b[39;49m\u001b[38;5;241;43m.\u001b[39;49m\u001b[43mpredict_fn\u001b[49m\u001b[43m(\u001b[49m\u001b[43msamples\u001b[49m\u001b[43m)\u001b[49m\u001b[38;5;241m.\u001b[39mastype(\u001b[38;5;28mfloat\u001b[39m)\n\u001b[1;32m     95\u001b[0m )\n\u001b[1;32m     97\u001b[0m mu \u001b[38;5;241m=\u001b[39m analysis[\u001b[38;5;124m\"\u001b[39m\u001b[38;5;124mmu\u001b[39m\u001b[38;5;124m\"\u001b[39m]\n\u001b[1;32m     98\u001b[0m mu_star \u001b[38;5;241m=\u001b[39m analysis[\u001b[38;5;124m\"\u001b[39m\u001b[38;5;124mmu_star\u001b[39m\u001b[38;5;124m\"\u001b[39m]\n",
      "File \u001b[0;32m/Library/Frameworks/Python.framework/Versions/3.8/lib/python3.8/site-packages/interpret/utils/all.py:241\u001b[0m, in \u001b[0;36munify_predict_fn.<locals>.<lambda>\u001b[0;34m(x)\u001b[0m\n\u001b[1;32m    239\u001b[0m predictions \u001b[38;5;241m=\u001b[39m predict_fn(X[:\u001b[38;5;241m1\u001b[39m])\n\u001b[1;32m    240\u001b[0m \u001b[38;5;28;01mif\u001b[39;00m predictions\u001b[38;5;241m.\u001b[39mndim \u001b[38;5;241m==\u001b[39m \u001b[38;5;241m2\u001b[39m:\n\u001b[0;32m--> 241\u001b[0m     new_predict_fn \u001b[38;5;241m=\u001b[39m \u001b[38;5;28;01mlambda\u001b[39;00m x: \u001b[43mpredict_fn\u001b[49m\u001b[43m(\u001b[49m\u001b[43mx\u001b[49m\u001b[43m)\u001b[49m\u001b[43m[\u001b[49m\u001b[43m:\u001b[49m\u001b[43m,\u001b[49m\u001b[43m \u001b[49m\u001b[38;5;241;43m1\u001b[39;49m\u001b[43m]\u001b[49m  \u001b[38;5;66;03m# noqa: E731\u001b[39;00m\n\u001b[1;32m    242\u001b[0m     \u001b[38;5;28;01mreturn\u001b[39;00m new_predict_fn\n\u001b[1;32m    243\u001b[0m \u001b[38;5;28;01melse\u001b[39;00m:\n",
      "\u001b[0;31mIndexError\u001b[0m: index 1 is out of bounds for axis 1 with size 1"
     ]
    }
   ],
   "source": [
    "msa = MorrisSensitivity(predict_fn=smallNet.predict, data=X)\n",
    "msa_global = msa.explain_global()\n",
    "\n",
    "show(msa_global)"
   ]
  },
  {
   "cell_type": "code",
   "execution_count": null,
   "id": "b2b8f87a",
   "metadata": {},
   "outputs": [],
   "source": []
  }
 ],
 "metadata": {
  "kernelspec": {
   "display_name": "Python 3 (ipykernel)",
   "language": "python",
   "name": "python3"
  },
  "language_info": {
   "codemirror_mode": {
    "name": "ipython",
    "version": 3
   },
   "file_extension": ".py",
   "mimetype": "text/x-python",
   "name": "python",
   "nbconvert_exporter": "python",
   "pygments_lexer": "ipython3",
   "version": "3.8.1"
  }
 },
 "nbformat": 4,
 "nbformat_minor": 5
}

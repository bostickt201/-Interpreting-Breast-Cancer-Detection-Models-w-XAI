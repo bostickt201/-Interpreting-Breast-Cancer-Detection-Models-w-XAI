{
 "cells": [
  {
   "cell_type": "code",
   "execution_count": 1,
   "id": "5ac7e195",
   "metadata": {},
   "outputs": [
    {
     "name": "stderr",
     "output_type": "stream",
     "text": [
      "2022-11-09 11:43:48.575403: I tensorflow/core/platform/cpu_feature_guard.cc:193] This TensorFlow binary is optimized with oneAPI Deep Neural Network Library (oneDNN) to use the following CPU instructions in performance-critical operations:  AVX2 FMA\n",
      "To enable them in other operations, rebuild TensorFlow with the appropriate compiler flags.\n"
     ]
    }
   ],
   "source": [
    "# imports\n",
    "import pandas as pd\n",
    "from keras import models\n",
    "from tensorflow.keras.models import Sequential\n",
    "from tensorflow.keras.layers import Dense\n",
    "from scikeras.wrappers import KerasClassifier\n",
    "from sklearn.model_selection import cross_val_score\n",
    "from sklearn.preprocessing import LabelEncoder\n",
    "from sklearn.model_selection import StratifiedKFold\n",
    "from sklearn.preprocessing import StandardScaler\n",
    "from sklearn.pipeline import Pipeline"
   ]
  },
  {
   "cell_type": "code",
   "execution_count": 2,
   "id": "62609b58",
   "metadata": {
    "scrolled": false
   },
   "outputs": [
    {
     "name": "stderr",
     "output_type": "stream",
     "text": [
      "2022-11-09 11:44:08.451557: I tensorflow/core/platform/cpu_feature_guard.cc:193] This TensorFlow binary is optimized with oneAPI Deep Neural Network Library (oneDNN) to use the following CPU instructions in performance-critical operations:  AVX2 FMA\n",
      "To enable them in other operations, rebuild TensorFlow with the appropriate compiler flags.\n"
     ]
    }
   ],
   "source": [
    "# Reconstruct models\n",
    "baseline = models.load_model('/Users/taylor/Desktop/DS340W/term_project/models/baseline')\n",
    "smaller = models.load_model('/Users/taylor/Desktop/DS340W/term_project/models/smaller')\n",
    "larger = models.load_model('/Users/taylor/Desktop/DS340W/term_project/models/12layerNN')"
   ]
  },
  {
   "cell_type": "code",
   "execution_count": 3,
   "id": "8f1de9c4",
   "metadata": {},
   "outputs": [
    {
     "name": "stdout",
     "output_type": "stream",
     "text": [
      "Model: \"sequential_30\"\n",
      "_________________________________________________________________\n",
      " Layer (type)                Output Shape              Param #   \n",
      "=================================================================\n",
      " dense_170 (Dense)           (None, 30)                930       \n",
      "                                                                 \n",
      " dense_171 (Dense)           (None, 1)                 31        \n",
      "                                                                 \n",
      "=================================================================\n",
      "Total params: 961\n",
      "Trainable params: 961\n",
      "Non-trainable params: 0\n",
      "_________________________________________________________________\n"
     ]
    }
   ],
   "source": [
    "baseline.summary()"
   ]
  },
  {
   "cell_type": "code",
   "execution_count": 4,
   "id": "1700dca7",
   "metadata": {},
   "outputs": [
    {
     "name": "stdout",
     "output_type": "stream",
     "text": [
      "Model: \"sequential_31\"\n",
      "_________________________________________________________________\n",
      " Layer (type)                Output Shape              Param #   \n",
      "=================================================================\n",
      " dense_172 (Dense)           (None, 15)                465       \n",
      "                                                                 \n",
      " dense_173 (Dense)           (None, 1)                 16        \n",
      "                                                                 \n",
      "=================================================================\n",
      "Total params: 481\n",
      "Trainable params: 481\n",
      "Non-trainable params: 0\n",
      "_________________________________________________________________\n"
     ]
    }
   ],
   "source": [
    "smaller.summary()"
   ]
  },
  {
   "cell_type": "code",
   "execution_count": 5,
   "id": "96e1266f",
   "metadata": {},
   "outputs": [
    {
     "name": "stdout",
     "output_type": "stream",
     "text": [
      "Model: \"sequential_32\"\n",
      "_________________________________________________________________\n",
      " Layer (type)                Output Shape              Param #   \n",
      "=================================================================\n",
      " dense_174 (Dense)           (None, 30)                930       \n",
      "                                                                 \n",
      " dense_175 (Dense)           (None, 15)                465       \n",
      "                                                                 \n",
      " dense_176 (Dense)           (None, 15)                240       \n",
      "                                                                 \n",
      " dense_177 (Dense)           (None, 15)                240       \n",
      "                                                                 \n",
      " dense_178 (Dense)           (None, 15)                240       \n",
      "                                                                 \n",
      " dense_179 (Dense)           (None, 15)                240       \n",
      "                                                                 \n",
      " dense_180 (Dense)           (None, 15)                240       \n",
      "                                                                 \n",
      " dense_181 (Dense)           (None, 15)                240       \n",
      "                                                                 \n",
      " dense_182 (Dense)           (None, 15)                240       \n",
      "                                                                 \n",
      " dense_183 (Dense)           (None, 15)                240       \n",
      "                                                                 \n",
      " dense_184 (Dense)           (None, 15)                240       \n",
      "                                                                 \n",
      " dense_185 (Dense)           (None, 15)                240       \n",
      "                                                                 \n",
      " dense_186 (Dense)           (None, 1)                 16        \n",
      "                                                                 \n",
      "=================================================================\n",
      "Total params: 3,811\n",
      "Trainable params: 3,811\n",
      "Non-trainable params: 0\n",
      "_________________________________________________________________\n"
     ]
    }
   ],
   "source": [
    "larger.summary()"
   ]
  },
  {
   "cell_type": "code",
   "execution_count": 6,
   "id": "d3379fc9",
   "metadata": {},
   "outputs": [],
   "source": [
    "# read in test dataset\n",
    "test_df = pd.read_csv('/Users/taylor/Desktop/DS340W/term_project/data/wisconsin/wisconsin_test.csv')\n",
    "test_dataset = test_df.values\n",
    "\n",
    "test_X = test_dataset[:,0:30].astype(float)\n",
    "test_Y = test_dataset[:,30]\n",
    "\n",
    "# encode class values as integers\n",
    "encoder = LabelEncoder()\n",
    "\n",
    "encoder.fit(test_Y)\n",
    "encoded_test_Y = encoder.transform(test_Y)"
   ]
  },
  {
   "cell_type": "code",
   "execution_count": 7,
   "id": "ad815bd2",
   "metadata": {},
   "outputs": [
    {
     "name": "stdout",
     "output_type": "stream",
     "text": [
      "INFO:tensorflow:Assets written to: ram:///var/folders/l3/ksrzbkl95qj78n24vwjd3hch0000gq/T/tmp5h_ds78_/assets\n",
      "INFO:tensorflow:Assets written to: ram:///var/folders/l3/ksrzbkl95qj78n24vwjd3hch0000gq/T/tmprlf2uvi8/assets\n",
      "INFO:tensorflow:Assets written to: ram:///var/folders/l3/ksrzbkl95qj78n24vwjd3hch0000gq/T/tmppb7fz508/assets\n",
      "INFO:tensorflow:Assets written to: ram:///var/folders/l3/ksrzbkl95qj78n24vwjd3hch0000gq/T/tmpofny8pyo/assets\n",
      "INFO:tensorflow:Assets written to: ram:///var/folders/l3/ksrzbkl95qj78n24vwjd3hch0000gq/T/tmp_xbkhb3p/assets\n",
      "WARNING:tensorflow:5 out of the last 5 calls to <function Model.make_predict_function.<locals>.predict_function at 0x12d47a9e0> triggered tf.function retracing. Tracing is expensive and the excessive number of tracings could be due to (1) creating @tf.function repeatedly in a loop, (2) passing tensors with different shapes, (3) passing Python objects instead of tensors. For (1), please define your @tf.function outside of the loop. For (2), @tf.function has reduce_retracing=True option that can avoid unnecessary retracing. For (3), please refer to https://www.tensorflow.org/guide/function#controlling_retracing and https://www.tensorflow.org/api_docs/python/tf/function for  more details.\n",
      "INFO:tensorflow:Assets written to: ram:///var/folders/l3/ksrzbkl95qj78n24vwjd3hch0000gq/T/tmpauhteesr/assets\n",
      "WARNING:tensorflow:6 out of the last 6 calls to <function Model.make_predict_function.<locals>.predict_function at 0x12d4789d0> triggered tf.function retracing. Tracing is expensive and the excessive number of tracings could be due to (1) creating @tf.function repeatedly in a loop, (2) passing tensors with different shapes, (3) passing Python objects instead of tensors. For (1), please define your @tf.function outside of the loop. For (2), @tf.function has reduce_retracing=True option that can avoid unnecessary retracing. For (3), please refer to https://www.tensorflow.org/guide/function#controlling_retracing and https://www.tensorflow.org/api_docs/python/tf/function for  more details.\n",
      "INFO:tensorflow:Assets written to: ram:///var/folders/l3/ksrzbkl95qj78n24vwjd3hch0000gq/T/tmp60hwhjgq/assets\n",
      "INFO:tensorflow:Assets written to: ram:///var/folders/l3/ksrzbkl95qj78n24vwjd3hch0000gq/T/tmp_zvnrp82/assets\n",
      "INFO:tensorflow:Assets written to: ram:///var/folders/l3/ksrzbkl95qj78n24vwjd3hch0000gq/T/tmp6ez4xp9x/assets\n",
      "INFO:tensorflow:Assets written to: ram:///var/folders/l3/ksrzbkl95qj78n24vwjd3hch0000gq/T/tmp6ssmysps/assets\n",
      "Baseline: 98.24% (2.70%)\n"
     ]
    }
   ],
   "source": [
    "######################### Testing Baseline ###################################\n",
    "estimators = []\n",
    "\n",
    "estimators.append(('standardize', StandardScaler()))\n",
    "estimators.append(('mlp', KerasClassifier(model=baseline, epochs=100, batch_size=32, verbose=0)))\n",
    "\n",
    "pipeline = Pipeline(estimators)\n",
    "kfold = StratifiedKFold(n_splits=10, shuffle=True)\n",
    "results = cross_val_score(pipeline, test_X, encoded_test_Y, cv=kfold)\n",
    "\n",
    "print(\"Baseline: %.2f%% (%.2f%%)\" % (results.mean()*100, results.std()*100))"
   ]
  },
  {
   "cell_type": "code",
   "execution_count": 8,
   "id": "73939b2d",
   "metadata": {
    "scrolled": false
   },
   "outputs": [
    {
     "name": "stdout",
     "output_type": "stream",
     "text": [
      "INFO:tensorflow:Assets written to: ram:///var/folders/l3/ksrzbkl95qj78n24vwjd3hch0000gq/T/tmpnih65iq4/assets\n",
      "INFO:tensorflow:Assets written to: ram:///var/folders/l3/ksrzbkl95qj78n24vwjd3hch0000gq/T/tmpckarcain/assets\n",
      "INFO:tensorflow:Assets written to: ram:///var/folders/l3/ksrzbkl95qj78n24vwjd3hch0000gq/T/tmpyp2lewbx/assets\n",
      "INFO:tensorflow:Assets written to: ram:///var/folders/l3/ksrzbkl95qj78n24vwjd3hch0000gq/T/tmpgqxy7cr5/assets\n",
      "INFO:tensorflow:Assets written to: ram:///var/folders/l3/ksrzbkl95qj78n24vwjd3hch0000gq/T/tmpeqq4ntwe/assets\n",
      "INFO:tensorflow:Assets written to: ram:///var/folders/l3/ksrzbkl95qj78n24vwjd3hch0000gq/T/tmp6iw4hi6l/assets\n",
      "INFO:tensorflow:Assets written to: ram:///var/folders/l3/ksrzbkl95qj78n24vwjd3hch0000gq/T/tmpru5sk7fn/assets\n",
      "INFO:tensorflow:Assets written to: ram:///var/folders/l3/ksrzbkl95qj78n24vwjd3hch0000gq/T/tmp4qh5dwx_/assets\n",
      "INFO:tensorflow:Assets written to: ram:///var/folders/l3/ksrzbkl95qj78n24vwjd3hch0000gq/T/tmpv5hnal12/assets\n",
      "INFO:tensorflow:Assets written to: ram:///var/folders/l3/ksrzbkl95qj78n24vwjd3hch0000gq/T/tmp5wlxq2d9/assets\n",
      "Smaller: 98.24% (2.70%)\n"
     ]
    }
   ],
   "source": [
    "######################### Testing Smaller ###################################\n",
    "\n",
    "estimators = []\n",
    "\n",
    "estimators.append(('standardize', StandardScaler()))\n",
    "estimators.append(('mlp', KerasClassifier(model=smaller, epochs=100, batch_size=32, verbose=0)))\n",
    "\n",
    "pipeline = Pipeline(estimators)\n",
    "kfold = StratifiedKFold(n_splits=10, shuffle=True)\n",
    "results = cross_val_score(pipeline, test_X, encoded_test_Y, cv=kfold)\n",
    "\n",
    "print(\"Smaller: %.2f%% (%.2f%%)\" % (results.mean()*100, results.std()*100))"
   ]
  },
  {
   "cell_type": "code",
   "execution_count": 9,
   "id": "d3c9df62",
   "metadata": {},
   "outputs": [
    {
     "name": "stdout",
     "output_type": "stream",
     "text": [
      "INFO:tensorflow:Assets written to: ram:///var/folders/l3/ksrzbkl95qj78n24vwjd3hch0000gq/T/tmpdvrg8qm8/assets\n",
      "INFO:tensorflow:Assets written to: ram:///var/folders/l3/ksrzbkl95qj78n24vwjd3hch0000gq/T/tmpoej3b2bn/assets\n",
      "INFO:tensorflow:Assets written to: ram:///var/folders/l3/ksrzbkl95qj78n24vwjd3hch0000gq/T/tmpby8m26xj/assets\n",
      "INFO:tensorflow:Assets written to: ram:///var/folders/l3/ksrzbkl95qj78n24vwjd3hch0000gq/T/tmp6ewnoxs5/assets\n",
      "INFO:tensorflow:Assets written to: ram:///var/folders/l3/ksrzbkl95qj78n24vwjd3hch0000gq/T/tmp2uu0y5bd/assets\n",
      "INFO:tensorflow:Assets written to: ram:///var/folders/l3/ksrzbkl95qj78n24vwjd3hch0000gq/T/tmpo909w_es/assets\n",
      "INFO:tensorflow:Assets written to: ram:///var/folders/l3/ksrzbkl95qj78n24vwjd3hch0000gq/T/tmp8o3vfd9g/assets\n",
      "INFO:tensorflow:Assets written to: ram:///var/folders/l3/ksrzbkl95qj78n24vwjd3hch0000gq/T/tmp678_6cd2/assets\n",
      "INFO:tensorflow:Assets written to: ram:///var/folders/l3/ksrzbkl95qj78n24vwjd3hch0000gq/T/tmpcze0b2tb/assets\n",
      "INFO:tensorflow:Assets written to: ram:///var/folders/l3/ksrzbkl95qj78n24vwjd3hch0000gq/T/tmpn0t6kspt/assets\n",
      "Larger: 97.68% (3.87%)\n"
     ]
    }
   ],
   "source": [
    "######################### Testing Larger ####################################\n",
    "\n",
    "estimators = []\n",
    "\n",
    "estimators.append(('standardize', StandardScaler()))\n",
    "estimators.append(('mlp', KerasClassifier(model=larger, epochs=100, batch_size=32, verbose=0)))\n",
    "\n",
    "pipeline = Pipeline(estimators)\n",
    "kfold = StratifiedKFold(n_splits=10, shuffle=True)\n",
    "results = cross_val_score(pipeline, test_X, encoded_test_Y, cv=kfold)\n",
    "\n",
    "print(\"Larger: %.2f%% (%.2f%%)\" % (results.mean()*100, results.std()*100))"
   ]
  }
 ],
 "metadata": {
  "kernelspec": {
   "display_name": "Python 3 (ipykernel)",
   "language": "python",
   "name": "python3"
  },
  "language_info": {
   "codemirror_mode": {
    "name": "ipython",
    "version": 3
   },
   "file_extension": ".py",
   "mimetype": "text/x-python",
   "name": "python",
   "nbconvert_exporter": "python",
   "pygments_lexer": "ipython3",
   "version": "3.10.8"
  }
 },
 "nbformat": 4,
 "nbformat_minor": 5
}
